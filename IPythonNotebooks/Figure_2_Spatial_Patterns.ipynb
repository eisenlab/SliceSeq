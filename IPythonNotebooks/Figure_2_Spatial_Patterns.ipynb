{
 "metadata": {
  "name": "Figure_2_Spatial_Patterns"
 },
 "nbformat": 3,
 "nbformat_minor": 0,
 "worksheets": [
  {
   "cells": [
    {
     "cell_type": "code",
     "collapsed": false,
     "input": [
      "import pandas as pd\n",
      "import sys\n",
      "from os import path\n",
      "\n",
      "table = pd.read_table('../analysis-multi/genes.fpkm_tracking', index_col=4)\n",
      "table_fbgn = pd.read_table('../analysis-multi/genes.fpkm_tracking', index_col=0)\n",
      "endswith_fpkm = lambda x: x.endswith('_FPKM')\n",
      "is_wt_fpkm = lambda x: x.endswith('_FPKM') and not x.startswith('Bcd')\n",
      "is_bcd_fpkm = lambda x: x.endswith('_FPKM') and x.startswith('Bcd')"
     ],
     "language": "python",
     "metadata": {},
     "outputs": []
    },
    {
     "cell_type": "code",
     "collapsed": false,
     "input": [
      "print \"Python version: \", sys.version\n",
      "print \"Pandas version: \", pd.__version__\n",
      "print \"Numpy version: \", pd.np.__version__"
     ],
     "language": "python",
     "metadata": {},
     "outputs": [
      {
       "output_type": "stream",
       "stream": "stdout",
       "text": [
        "Python version:  2.7.2 |EPD 7.2-1 (64-bit)| (default, Jul 27 2011, 14:50:45) \n",
        "[GCC 4.0.1 (Apple Inc. build 5493)]\n",
        "Pandas version:  0.9.0\n",
        "Numpy version:  1.6.1\n"
       ]
      }
     ],
     "prompt_number": 2
    },
    {
     "cell_type": "code",
     "collapsed": false,
     "input": [
      "import matplotlib as mpl\n",
      "#print [(param, mpl.rcParams[param]) for param in mpl.rcParams if param.startswith('font.')]\n",
      "mpl.rcParams['pdf.fonttype'] = 42\n",
      "mpl.rcParams['font.sans-serif'] = ['Arial']"
     ],
     "language": "python",
     "metadata": {},
     "outputs": []
    },
    {
     "cell_type": "code",
     "collapsed": false,
     "input": [
      "fpkms = table.select(is_wt_fpkm, 1)\n",
      "fpkms_fbgn = table_fbgn.select(is_wt_fpkm, 1)\n",
      "bcd_fpkms = table.select(is_bcd_fpkm, 1)\n",
      "bcd_fpkms_fbgn = table_fbgn.select(is_bcd_fpkm, 1)\n",
      "\n",
      "fpkms = fpkms.reindex(columns=['AAA_FPKM', 'AA_FPKM', 'A_FPKM', 'P_FPKM', 'PP_FPKM', 'PPP_FPKM'])\n",
      "fpkms_fbgn = fpkms_fbgn.reindex(columns=['AAA_FPKM', 'AA_FPKM', 'A_FPKM', 'P_FPKM', 'PP_FPKM', 'PPP_FPKM'])\n",
      "bcd_fpkms = bcd_fpkms.reindex(columns=['AAA_FPKM', 'AA_FPKM', 'A_FPKM', 'P_FPKM', 'PP_FPKM', 'PPP_FPKM'])\n",
      "bcd_fpkms_fbgn = bcd_fpkms_fbgn.reindex(columns=['AAA_FPKM', 'AA_FPKM', 'A_FPKM', 'P_FPKM', 'PP_FPKM', 'PPP_FPKM'])"
     ],
     "language": "python",
     "metadata": {},
     "outputs": []
    },
    {
     "cell_type": "code",
     "collapsed": false,
     "input": [
      "highests = argmax(fpkms.as_matrix(), axis=1)\n",
      "lowests = argmin(fpkms.as_matrix(), axis=1)"
     ],
     "language": "python",
     "metadata": {},
     "outputs": []
    },
    {
     "cell_type": "code",
     "collapsed": false,
     "input": [
      "mkdir FlyExpressMaternal"
     ],
     "language": "python",
     "metadata": {},
     "outputs": []
    },
    {
     "cell_type": "code",
     "collapsed": false,
     "input": [
      "matlist = set([line.strip() for line in open('matonly.txt')])"
     ],
     "language": "python",
     "metadata": {},
     "outputs": []
    },
    {
     "cell_type": "code",
     "collapsed": false,
     "input": [
      "outfiles = [open(path.join('FlyExpressMaternal', column.replace('_FPKM', '') + '.txt'), 'w') for column in fpkms.columns]\n",
      "for gene, highest, lowest in zip(fpkms.index, highests, lowests):\n",
      "    if gene not in matlist: continue\n",
      "    if fpkms.ix[gene][highest] > 2 * fpkms.ix[gene][lowest]:\n",
      "        outfiles[highest].write(str(table.ix[gene]['tracking_id']) + '\\n')\n",
      "[f.close() for f in outfiles]\n",
      "    "
     ],
     "language": "python",
     "metadata": {},
     "outputs": []
    },
    {
     "cell_type": "code",
     "collapsed": false,
     "input": [
      "genediff = pd.read_table('../analysis-multi/gene_exp.diff')"
     ],
     "language": "python",
     "metadata": {},
     "outputs": []
    },
    {
     "cell_type": "code",
     "collapsed": false,
     "input": [
      "is_diff = genediff[genediff.significant == 'yes'].select(lambda x: genediff.ix[x]['gene'] in matlist)"
     ],
     "language": "python",
     "metadata": {},
     "outputs": []
    },
    {
     "cell_type": "code",
     "collapsed": false,
     "input": [
      "is_diff.sort(columns='log2(fold_change)')"
     ],
     "language": "python",
     "metadata": {},
     "outputs": []
    },
    {
     "cell_type": "code",
     "collapsed": false,
     "input": [
      "figure(figsize=(3.0,2.2))\n",
      "lists = [[] for i in range(6)]\n",
      "for gene in is_diff.gene.unique():\n",
      "    lists[argmax(fpkms.ix[gene])].append(gene)\n",
      "print hist([argmax(fpkms.ix[i]) for i in is_diff.gene.unique()], bins=6)\n",
      "xlim(0,5)\n",
      "ylabel('Significant genes with\\npeak expression in slice')\n",
      "xticks([0.5, 4.5], [\"Anterior\", \"Posterior\"])\n",
      "\n",
      "tight_layout()\n",
      "savefig('figures/MaternalSignificant.eps',dpi=300)\n",
      "\n",
      "\n",
      "\n",
      "print '\\n-----\\n'.join('\\n'.join(l) for l in lists)"
     ],
     "language": "python",
     "metadata": {},
     "outputs": []
    },
    {
     "cell_type": "code",
     "collapsed": false,
     "input": [
      "fpkms.ix['cad']"
     ],
     "language": "python",
     "metadata": {},
     "outputs": []
    },
    {
     "cell_type": "markdown",
     "metadata": {},
     "source": [
      "Mike's Big Idea\n",
      "===============\n",
      "\n",
      "\n",
      "Known patterned genes, with their images, then the plots of their expression across my slices\n"
     ]
    },
    {
     "cell_type": "code",
     "collapsed": false,
     "input": [
      "import pandas as pd\n",
      "import matplotlib as mpl\n",
      "#print [(param, mpl.rcParams[param]) for param in mpl.rcParams if param.startswith('font.')]\n",
      "mpl.rcParams['pdf.fonttype'] = 42\n",
      "mpl.rcParams['font.sans-serif'] = ['Arial']"
     ],
     "language": "python",
     "metadata": {},
     "outputs": []
    },
    {
     "cell_type": "code",
     "collapsed": false,
     "input": [
      "BDGP_names = pd.read_csv('figures/insitu_images.csv')\n",
      "fig2_list = sorted([line.strip() for line in open('fig2_list.txt')])"
     ],
     "language": "python",
     "metadata": {},
     "outputs": []
    },
    {
     "cell_type": "code",
     "collapsed": false,
     "input": [
      "st_5_with_lat = BDGP_names[(BDGP_names['stage'] == 2) & (BDGP_names['view'] == 'lateral')]"
     ],
     "language": "python",
     "metadata": {},
     "outputs": []
    },
    {
     "cell_type": "code",
     "collapsed": false,
     "input": [
      "import urllib, time\n",
      "from os import path\n",
      "def imget(imname):\n",
      "    \"\"\" Use cached, or fetch an image from FlyExpress\n",
      "\n",
      "Assumes that the image name is one from BDGP, in which case\n",
      "it's pretty easy to look at the source of the FlyExpress\n",
      "report pages and see what the format is. \n",
      "\n",
      "\"\"\"\n",
      "    im_basename = path.splitext(path.basename(imname))[0]\n",
      "    filename = path.join('figures', 'BDGP', im_basename+'.bmp')\n",
      "    if not path.exists(filename):\n",
      "        base_web = \"http://www.flyexpress.net/ZOOX4_DBImages/BDGP/thumbnails/%s_s.bmp\"\n",
      "        print \"1 second delay to avoid spamming server\"\n",
      "        time.sleep(1)\n",
      "        urllib.urlretrieve(base_web % im_basename, filename)\n",
      "    return imread(filename)"
     ],
     "language": "python",
     "metadata": {},
     "outputs": []
    },
    {
     "cell_type": "code",
     "collapsed": false,
     "input": [
      "st_5_with_lat[st_5_with_lat['Name2'] == 'hb']"
     ],
     "language": "python",
     "metadata": {},
     "outputs": []
    },
    {
     "cell_type": "code",
     "collapsed": false,
     "input": [
      "def plot_gene(gene_name,\n",
      "              subplot_rows = 1, subplot_cols = 2, subplot_num = 1):\n",
      "    if gene_name.startswith('FBgn'):\n",
      "        my_table = fpkms_fbgn\n",
      "    else:\n",
      "        my_table = fpkms\n",
      "    subplot(subplot_rows, subplot_cols, subplot_num)\n",
      "    shown = False\n",
      "    data_col = 'FBgn' if gene_name.startswith('FBgn') else 'Name2'\n",
      "    for j, data_row in st_5_with_lat[st_5_with_lat['Name2'] == gene_name].iterrows():\n",
      "        try:\n",
      "            imdat = imget(data_row['imgfile'])\n",
      "            imshow(imdat, origin='lower')\n",
      "            shown = True\n",
      "            break\n",
      "        except IOError:\n",
      "            pass\n",
      "    if not shown:\n",
      "        print \"Can't find image for\", gene_name\n",
      "    #rows, cols, rgb = shape(imdat)\n",
      "    ax = gca()\n",
      "    xticks([], [])\n",
      "    yticks([], [])\n",
      "    for spine in ax.spines.itervalues():\n",
      "        spine.set_visible(False)\n",
      "    ylabel(gene_name)\n",
      "    subplot(subplot_rows, subplot_cols, subplot_num + 1)\n",
      "    if gene_name in my_table.index:\n",
      "        ax = gca()\n",
      "        plot(linspace(0, 100, len(my_table.columns), False), my_table.ix[gene_name])\n",
      "        xticks([], [])\n",
      "        old_ticks = yticks()[0]\n",
      "        yticks([0, old_ticks[-1]])\n",
      "        ax.yaxis.tick_right()\n",
      "    else:\n",
      "        print \"Can't find data for\", gene_name\n"
     ],
     "language": "python",
     "metadata": {},
     "outputs": []
    },
    {
     "cell_type": "code",
     "collapsed": false,
     "input": [
      "figure(figsize(4,3))\n",
      "plot_gene('bcd')"
     ],
     "language": "python",
     "metadata": {},
     "outputs": []
    },
    {
     "cell_type": "code",
     "collapsed": false,
     "input": [
      "buf = 10\n",
      "fig2_list = sorted([line.strip() for line in open('fig2_list.txt')])\n",
      "num_genes = len(fig2_list)\n",
      "\n",
      "aspect = 1/2.\n",
      "fig_cols = 4.0 #max(floor(sqrt(num_genes)*aspect), 1)\n",
      "fig_rows = ceil(num_genes / fig_cols)\n",
      "\n",
      "fig_cols *= 2 # For both the image and the plot\n",
      "\n",
      "fig = figure(figsize=(6.813, 7.426),dpi=300)\n",
      "all_axes = []\n",
      "for i, name in enumerate(fig2_list):\n",
      "    ax1 = fig.add_subplot(fig_rows, fig_cols, 2*i+1)\n",
      "    shown = False\n",
      "    for j, data_row in st_5_with_lat[st_5_with_lat['Name2'] == name].iterrows():\n",
      "        try:\n",
      "            imdat = imget(data_row['imgfile'])\n",
      "            ax1.imshow(imdat, origin='lower')\n",
      "            shown = True\n",
      "            break\n",
      "        except IOError:\n",
      "            pass\n",
      "    if not shown:\n",
      "        print \"Can't find image for\", name\n",
      "    rows, cols, rgb = shape(imdat)\n",
      "    ax = gca()\n",
      "    xticks([], [])\n",
      "    yticks([], [])\n",
      "    for spine in ax.spines.itervalues():\n",
      "        spine.set_visible(False)\n",
      "    ylabel(name)\n",
      "    ax2 = fig.add_subplot(fig_rows, fig_cols, 2*i+2)\n",
      "    if name in fpkms.index:\n",
      "        ax2.plot(linspace(buf, cols-buf, len(fpkms.columns), False), fpkms.ix[name])\n",
      "        xticks([], [])\n",
      "        old_ticks = yticks()[0]\n",
      "        yticks([0, old_ticks[-1]])\n",
      "        ax2.yaxis.tick_right()\n",
      "    else:\n",
      "        print \"Can't find data for\", name\n",
      "    all_axes.append((ax1, ax2))\n",
      "tight_layout()\n",
      "\n",
      "for ax1, ax2 in all_axes:\n",
      "    bbox1 = ax1.get_position()\n",
      "    bbox2 = ax2.get_position()\n",
      "    extra_width = (bbox2.x0 - bbox1.x1)/2 * 0.9\n",
      "    ax1.set_position([bbox1.x0, bbox1.y0, \n",
      "                        bbox1.width+extra_width, bbox1.height])\n",
      "    ax2.set_position([bbox2.x0 - extra_width, bbox2.y0,\n",
      "                      bbox2.width+extra_width, bbox2.height])\n",
      "\n",
      "#old_pos = ax.get_position()\n",
      "#ax.set_position([0, old_pos.y0, old_pos.width, old_pos.height])\n",
      "\n",
      "savefig('figures/fig2.pdf',dpi=300)\n",
      "savefig('figures/fig2.tiff',dpi=300)\n",
      "savefig('figures/fig2.png',dpi=300)"
     ],
     "language": "python",
     "metadata": {},
     "outputs": []
    },
    {
     "cell_type": "code",
     "collapsed": false,
     "input": [
      "NoFlyExpress = ['CG32251', 'CG6770', 'CG34252', 'BicC', 'mthl1', 'stai', 'mtrm',]\n",
      "\n",
      "num_genes = len(NoFlyExpress)\n",
      "\n",
      "aspect = 1.5\n",
      "fig_cols = max(floor(sqrt(num_genes)*aspect), 1)\n",
      "fig_rows = ceil(num_genes / fig_cols)\n",
      "\n",
      "#fig_cols *= 2 # For both the image and the plot\n",
      "\n",
      "figure(figsize=(3.27,2.5),dpi=900)\n",
      "\n",
      "\n",
      "for i, gene in enumerate(NoFlyExpress):\n",
      "    #plot_gene(gene, fig_rows, fig_cols, i*2+1)\n",
      "    subplot(fig_rows, fig_cols, i+1)\n",
      "    ax = gca()\n",
      "    plot(fpkms.ix[gene])\n",
      "    xticks([])\n",
      "    yt_pos, yt_lab = yticks()\n",
      "    yticks([yt_pos[0], yt_pos[-1]])\n",
      "    ylabel(gene)\n",
      "    ax.yaxis.tick_right()\n",
      "    \n",
      "tight_layout()    \n",
      "    \n",
      "savefig('figures/maternal_noFlyEx.pdf',dpi=300)"
     ],
     "language": "python",
     "metadata": {},
     "outputs": []
    },
    {
     "cell_type": "heading",
     "level": 1,
     "metadata": {},
     "source": [
      "All Differential Genes"
     ]
    },
    {
     "cell_type": "code",
     "collapsed": false,
     "input": [
      "def selector(index):\n",
      "    return ((not genediff.sample_1.ix[index].startswith('Bcd')) \n",
      "            and (not genediff.sample_2.ix[index].startswith('Bcd')))"
     ],
     "language": "python",
     "metadata": {},
     "outputs": []
    },
    {
     "cell_type": "code",
     "collapsed": false,
     "input": [
      "genediff[genediff.significant].select(selector).gene"
     ],
     "language": "python",
     "metadata": {},
     "outputs": []
    },
    {
     "cell_type": "code",
     "collapsed": false,
     "input": [
      "mine = set(genediff[genediff.significant].select(selector).gene)\n",
      "theirs = set(line.strip() for line in open('BDGP_subset_names.txt') if line.strip())"
     ],
     "language": "python",
     "metadata": {},
     "outputs": []
    },
    {
     "cell_type": "code",
     "collapsed": false,
     "input": [
      "len(mine.intersection(theirs))"
     ],
     "language": "python",
     "metadata": {},
     "outputs": []
    },
    {
     "cell_type": "code",
     "collapsed": false,
     "input": [
      "len(mine)"
     ],
     "language": "python",
     "metadata": {},
     "outputs": []
    },
    {
     "cell_type": "code",
     "collapsed": false,
     "input": [
      "len(theirs)"
     ],
     "language": "python",
     "metadata": {},
     "outputs": []
    },
    {
     "cell_type": "code",
     "collapsed": false,
     "input": [
      "plot_gene('bun')"
     ],
     "language": "python",
     "metadata": {},
     "outputs": []
    },
    {
     "cell_type": "code",
     "collapsed": false,
     "input": [
      "hist([max(fpkms.ix[gene]) for gene in theirs.difference(mine) if gene in fpkms.index], arange(0,100))\n",
      "print sum(1 for gene in theirs.difference(mine) if gene in fpkms.index and max(fpkms.ix[gene]) < 20)\n",
      "len(theirs.difference(mine))"
     ],
     "language": "python",
     "metadata": {},
     "outputs": []
    },
    {
     "cell_type": "code",
     "collapsed": false,
     "input": [
      "x = [gene for gene in theirs.difference(mine) if gene in fpkms.index and max(fpkms.ix[gene]) > 20]\n",
      "print x\n",
      "print len(x)"
     ],
     "language": "python",
     "metadata": {},
     "outputs": []
    },
    {
     "cell_type": "code",
     "collapsed": false,
     "input": [
      "bad_name_list = [gene for gene in theirs.difference(mine) if gene not in fpkms.index]\n",
      "print bad_name_list\n",
      "print len(bad_name_list)"
     ],
     "language": "python",
     "metadata": {},
     "outputs": []
    },
    {
     "cell_type": "code",
     "collapsed": false,
     "input": [],
     "language": "python",
     "metadata": {},
     "outputs": []
    },
    {
     "cell_type": "code",
     "collapsed": false,
     "input": [],
     "language": "python",
     "metadata": {},
     "outputs": []
    }
   ],
   "metadata": {}
  }
 ]
}