{
 "metadata": {
  "name": "Figure_2_Spatial_Patterns"
 },
 "nbformat": 3,
 "nbformat_minor": 0,
 "worksheets": [
  {
   "cells": [
    {
     "cell_type": "code",
     "collapsed": false,
     "input": [
      "import pandas as pd\n",
      "import sys\n",
      "from os import path\n",
      "\n",
      "table = pd.read_table('../analysis-multi-nobcd/genes.fpkm_tracking', index_col=4)\n",
      "table_fbgn = pd.read_table('../analysis-multi-nobcd/genes.fpkm_tracking', index_col=0)\n",
      "endswith_fpkm = lambda x: x.endswith('_FPKM')\n",
      "is_wt_fpkm = lambda x: x.endswith('_FPKM') and not x.startswith('Bcd')\n",
      "is_bcd_fpkm = lambda x: x.endswith('_FPKM') and x.startswith('Bcd')"
     ],
     "language": "python",
     "metadata": {},
     "outputs": []
    },
    {
     "cell_type": "code",
     "collapsed": false,
     "input": [
      "print \"Python version: \", sys.version\n",
      "print \"Pandas version: \", pd.__version__\n",
      "print \"Numpy version: \", pd.np.__version__"
     ],
     "language": "python",
     "metadata": {},
     "outputs": []
    },
    {
     "cell_type": "code",
     "collapsed": false,
     "input": [
      "import matplotlib as mpl\n",
      "#print [(param, mpl.rcParams[param]) for param in mpl.rcParams if param.startswith('font.')]\n",
      "mpl.rcParams['pdf.fonttype'] = 42\n",
      "mpl.rcParams['font.sans-serif'] = ['Arial']"
     ],
     "language": "python",
     "metadata": {},
     "outputs": []
    },
    {
     "cell_type": "code",
     "collapsed": false,
     "input": [
      "fpkms = table.select(is_wt_fpkm, 1)\n",
      "fpkms_fbgn = table_fbgn.select(is_wt_fpkm, 1)\n",
      "bcd_fpkms = table.select(is_bcd_fpkm, 1)\n",
      "bcd_fpkms_fbgn = table_fbgn.select(is_bcd_fpkm, 1)\n",
      "\n",
      "fpkms = fpkms.reindex(columns=['AAA_FPKM', 'AA_FPKM', 'A_FPKM', 'P_FPKM', 'PP_FPKM', 'PPP_FPKM'])\n",
      "fpkms_fbgn = fpkms_fbgn.reindex(columns=['AAA_FPKM', 'AA_FPKM', 'A_FPKM', 'P_FPKM', 'PP_FPKM', 'PPP_FPKM'])\n",
      "bcd_fpkms = bcd_fpkms.reindex(columns=['AAA_FPKM', 'AA_FPKM', 'A_FPKM', 'P_FPKM', 'PP_FPKM', 'PPP_FPKM'])\n",
      "bcd_fpkms_fbgn = bcd_fpkms_fbgn.reindex(columns=['AAA_FPKM', 'AA_FPKM', 'A_FPKM', 'P_FPKM', 'PP_FPKM', 'PPP_FPKM'])"
     ],
     "language": "python",
     "metadata": {},
     "outputs": []
    },
    {
     "cell_type": "code",
     "collapsed": false,
     "input": [
      "highests = argmax(fpkms.as_matrix(), axis=1)\n",
      "lowests = argmin(fpkms.as_matrix(), axis=1)"
     ],
     "language": "python",
     "metadata": {},
     "outputs": []
    },
    {
     "cell_type": "code",
     "collapsed": false,
     "input": [
      "mkdir FlyExpressMaternal"
     ],
     "language": "python",
     "metadata": {},
     "outputs": []
    },
    {
     "cell_type": "code",
     "collapsed": false,
     "input": [
      "matlist = set([line.strip() for line in open('matonly.txt')])"
     ],
     "language": "python",
     "metadata": {},
     "outputs": []
    },
    {
     "cell_type": "code",
     "collapsed": false,
     "input": [
      "outfiles = [open(path.join('FlyExpressMaternal', column.replace('_FPKM', '') + '.txt'), 'w') for column in fpkms.columns]\n",
      "for gene, highest, lowest in zip(fpkms.index, highests, lowests):\n",
      "    if gene not in matlist: continue\n",
      "    if fpkms.ix[gene][highest] > 2 * fpkms.ix[gene][lowest]:\n",
      "        outfiles[highest].write(str(table.ix[gene]['tracking_id']) + '\\n')\n",
      "[f.close() for f in outfiles]\n",
      "    "
     ],
     "language": "python",
     "metadata": {},
     "outputs": []
    },
    {
     "cell_type": "code",
     "collapsed": false,
     "input": [
      "genediff = pd.read_table('../analysis-multi-nobcd/gene_exp.diff')"
     ],
     "language": "python",
     "metadata": {},
     "outputs": []
    },
    {
     "cell_type": "code",
     "collapsed": false,
     "input": [
      "is_diff = genediff[genediff.significant == 'yes'].select(lambda x: genediff.ix[x]['gene'] in matlist)"
     ],
     "language": "python",
     "metadata": {},
     "outputs": []
    },
    {
     "cell_type": "code",
     "collapsed": false,
     "input": [
      "is_diff.sort(columns='log2(fold_change)')"
     ],
     "language": "python",
     "metadata": {},
     "outputs": []
    },
    {
     "cell_type": "code",
     "collapsed": false,
     "input": [
      "figure(figsize=(3.0,2.2))\n",
      "lists = [[] for i in range(6)]\n",
      "for gene in is_diff.gene.unique():\n",
      "    lists[argmax(fpkms.ix[gene])].append(gene)\n",
      "print hist([argmax(fpkms.ix[i]) for i in is_diff.gene.unique()], bins=6)\n",
      "xlim(0,5)\n",
      "ylabel('Significant genes with\\npeak expression in slice')\n",
      "xticks([0.5, 4.5], [\"Anterior\", \"Posterior\"])\n",
      "\n",
      "tight_layout()\n",
      "savefig('figures/MaternalSignificant.eps',dpi=300)\n",
      "\n",
      "\n",
      "\n",
      "print '\\n-----\\n'.join('\\n'.join(l) for l in lists)"
     ],
     "language": "python",
     "metadata": {},
     "outputs": []
    },
    {
     "cell_type": "code",
     "collapsed": false,
     "input": [
      "fpkms.ix['cad']"
     ],
     "language": "python",
     "metadata": {},
     "outputs": []
    },
    {
     "cell_type": "markdown",
     "metadata": {},
     "source": [
      "Mike's Big Idea\n",
      "===============\n",
      "\n",
      "\n",
      "Known patterned genes, with their images, then the plots of their expression across my slices\n"
     ]
    },
    {
     "cell_type": "code",
     "collapsed": false,
     "input": [
      "import pandas as pd\n",
      "import matplotlib as mpl\n",
      "#print [(param, mpl.rcParams[param]) for param in mpl.rcParams if param.startswith('font.')]\n",
      "mpl.rcParams['pdf.fonttype'] = 42\n",
      "mpl.rcParams['font.sans-serif'] = ['Arial']"
     ],
     "language": "python",
     "metadata": {},
     "outputs": []
    },
    {
     "cell_type": "code",
     "collapsed": false,
     "input": [
      "BDGP_names = pd.read_csv('figures/insitu_images.csv')\n",
      "BDGP_names.view.ix[2929] = 'lateral'\n",
      "BDGP_names.view.ix[4582] = 'lateral'\n",
      "BDGP_names.view.ix[57673] = 'lateral'\n",
      "BDGP_names.view.ix[105851:105859] = 'ignore'\n",
      "BDGP_names.view.ix[22071] = 'ignore'\n",
      "BDGP_names.view.ix[105858] = 'ignore'\n",
      "BDGP_names.view.ix[92589:92598] = 'ignore'\n",
      "\n",
      "\n",
      "\n",
      "fig2_list = sorted([line.strip() for line in open('fig2_list.txt')])"
     ],
     "language": "python",
     "metadata": {},
     "outputs": []
    },
    {
     "cell_type": "code",
     "collapsed": false,
     "input": [
      "st_5_with_lat = BDGP_names[(BDGP_names['stage'] == 2) & (BDGP_names['view'] == 'lateral')]"
     ],
     "language": "python",
     "metadata": {},
     "outputs": []
    },
    {
     "cell_type": "code",
     "collapsed": false,
     "input": [
      "import urllib, time\n",
      "from os import path\n",
      "def imget(imname):\n",
      "    \"\"\" Use cached, or fetch an image from FlyExpress\n",
      "\n",
      "Assumes that the image name is one from BDGP, in which case\n",
      "it's pretty easy to look at the source of the FlyExpress\n",
      "report pages and see what the format is. \n",
      "\n",
      "\"\"\"\n",
      "    im_basename = path.splitext(path.basename(imname))[0]\n",
      "    filename = path.join('figures', 'BDGP', im_basename+'.bmp')\n",
      "    if not path.exists(filename):\n",
      "        base_web = \"http://www.flyexpress.net/ZOOX4_DBImages/BDGP/thumbnails/%s_s.bmp\"\n",
      "        print \"1 second delay to avoid spamming server\"\n",
      "        time.sleep(1)\n",
      "        urllib.urlretrieve(base_web % im_basename, filename)\n",
      "    return imread(filename)"
     ],
     "language": "python",
     "metadata": {},
     "outputs": []
    },
    {
     "cell_type": "code",
     "collapsed": false,
     "input": [
      "import urllib, time\n",
      "from os import path\n",
      "def imget_bdgp(imname):\n",
      "    \"\"\" Use cached, or fetch an image from FlyExpress\n",
      "\n",
      "Assumes that the image name is one from BDGP, in which case\n",
      "it's pretty easy to look at the source of the FlyExpress\n",
      "report pages and see what the format is. \n",
      "\n",
      "\"\"\"\n",
      "    im_basename = path.splitext(path.basename(imname))[0]\n",
      "    filename = path.join('figures', 'BDGP', im_basename+'.jpe')\n",
      "    if not path.exists(filename):\n",
      "        base_web = \"http://insitu.fruitfly.org/insitu_image_storage/thumbnails/%s\"\n",
      "        print \"1 second delay to avoid spamming server\"\n",
      "        time.sleep(1)\n",
      "        urllib.urlretrieve(base_web % imname, filename)\n",
      "    return imread(filename)"
     ],
     "language": "python",
     "metadata": {},
     "outputs": []
    },
    {
     "cell_type": "code",
     "collapsed": false,
     "input": [
      "def plot_gene(gene_name,\n",
      "              subplot_rows = 1, subplot_cols = 2, subplot_num = 1):\n",
      "    if gene_name.startswith('FBgn'):\n",
      "        my_table = fpkms_fbgn\n",
      "    else:\n",
      "        my_table = fpkms\n",
      "    subplot(subplot_rows, subplot_cols, subplot_num)\n",
      "    shown = False\n",
      "    data_col = 'FBgn' if gene_name.startswith('FBgn') else 'Name2'\n",
      "    for j, data_row in st_5_with_lat[st_5_with_lat['Name2'] == gene_name].iterrows():\n",
      "        try:\n",
      "            imdat = imget(data_row['imgfile'])\n",
      "            imshow(imdat, origin='lower')\n",
      "            shown = True\n",
      "            break\n",
      "        except IOError:\n",
      "            pass\n",
      "    if not shown:\n",
      "        print \"Can't find image for\", gene_name\n",
      "    #rows, cols, rgb = shape(imdat)\n",
      "    ax1 = gca()\n",
      "    xticks([], [])\n",
      "    yticks([], [])\n",
      "    for spine in ax1.spines.itervalues():\n",
      "        spine.set_visible(False)\n",
      "    ylabel(gene_name)\n",
      "    subplot(subplot_rows, subplot_cols, subplot_num + 1)        \n",
      "    ax2 = gca()\n",
      "    if gene_name in my_table.index:\n",
      "        plot(np.arange(len(my_table.columns)), my_table.ix[gene_name])\n",
      "        xticks([], [])\n",
      "        old_ticks = yticks()[0]\n",
      "        yticks([0, old_ticks[-1]])\n",
      "        ax2.yaxis.tick_right()\n",
      "        ymin, ymax = ax2.get_ylim()\n",
      "        ax2.vlines(np.arange(len(my_table.columns) - 1) + 0.5, ymin, ymax, colors=(0.5,0.5,0.5), linestyles='dotted')\n",
      "    else:\n",
      "        print \"Can't find data for\", gene_name\n",
      "    bbox1 = ax1.get_position()\n",
      "    bbox2 = ax2.get_position()\n",
      "    extra_width = (bbox2.x0 - bbox1.x1)/2 * 0.9\n",
      "    ax1.set_position([bbox1.x0, bbox1.y0, \n",
      "                        bbox1.width+extra_width, bbox1.height])\n",
      "    ax2.set_position([bbox2.x0 - extra_width, bbox2.y0,\n",
      "                      bbox2.width+extra_width, bbox2.height])\n",
      "    \n"
     ],
     "language": "python",
     "metadata": {},
     "outputs": []
    },
    {
     "cell_type": "code",
     "collapsed": false,
     "input": [
      "figure(figsize(4,3))\n",
      "plot_gene('bcd')"
     ],
     "language": "python",
     "metadata": {},
     "outputs": []
    },
    {
     "cell_type": "code",
     "collapsed": false,
     "input": [
      "get_com = lambda name: sum(i * f for i,f in enumerate(fpkms.ix[name])) / sum(fpkms.ix[name])\n",
      "get_com('bcd')"
     ],
     "language": "python",
     "metadata": {},
     "outputs": []
    },
    {
     "cell_type": "code",
     "collapsed": false,
     "input": [
      "buf = 10\n",
      "fig2_list = sorted([line.strip() for line in open('fig2_list.txt')], key=get_com)\n",
      "num_genes = len(fig2_list)\n",
      "\n",
      "aspect = 1/2.\n",
      "fig_cols = 4.0 #max(floor(sqrt(num_genes)*aspect), 1)\n",
      "fig_rows = ceil(num_genes / fig_cols)\n",
      "\n",
      "fig_cols *= 2 # For both the image and the plot\n",
      "\n",
      "fig = figure(figsize=(6.813, 7.426),dpi=300)\n",
      "all_axes = []\n",
      "for i, name in enumerate(fig2_list):\n",
      "    #print name, get_com(name)\n",
      "    ax1 = fig.add_subplot(fig_rows, fig_cols, 2*i+1)\n",
      "    shown = False\n",
      "    for j, data_row in st_5_with_lat[st_5_with_lat['Name2'] == name].iterrows():\n",
      "        try:\n",
      "            imdat = imget(data_row['imgfile'])\n",
      "            ax1.imshow(imdat, origin='lower')\n",
      "            shown = True\n",
      "            break\n",
      "        except IOError:\n",
      "            pass\n",
      "    if not shown:\n",
      "        print \"Can't find image for\", name\n",
      "    rows, cols, rgb = shape(imdat)\n",
      "    ax = gca()\n",
      "    xticks([], [])\n",
      "    yticks([], [])\n",
      "    for spine in ax.spines.itervalues():\n",
      "        spine.set_visible(False)\n",
      "    ylabel(name)\n",
      "    ax2 = fig.add_subplot(fig_rows, fig_cols, 2*i+2)\n",
      "    if name in fpkms.index:\n",
      "        ax2.plot(arange(len(fpkms.columns)), fpkms.ix[name], 'b-')\n",
      "        xticks([], [])\n",
      "        old_ticks = yticks()[0]\n",
      "        yticks([0, old_ticks[-1]])\n",
      "        ax2.yaxis.tick_right()\n",
      "        ymin, ymax = ax2.get_ylim()\n",
      "        ax2.vlines(np.arange(len(fpkms.columns) - 1) + 0.5, ymin, ymax, colors=(0.3,0.3,0.3), linestyles='dotted')\n",
      "        ax2.set_xlim(-0.5, len(fpkms.columns)-0.5)\n",
      "\n",
      "    else:\n",
      "        print \"Can't find data for\", name\n",
      "    all_axes.append((ax1, ax2))\n",
      "tight_layout()\n",
      "\n",
      "for ax1, ax2 in all_axes:\n",
      "    bbox1 = ax1.get_position()\n",
      "    bbox2 = ax2.get_position()\n",
      "    extra_width = (bbox2.x0 - bbox1.x1)/2 * 0.9\n",
      "    ax1.set_position([bbox1.x0, bbox1.y0, \n",
      "                        bbox1.width+extra_width, bbox1.height])\n",
      "    ax2.set_position([bbox2.x0 - extra_width, bbox2.y0,\n",
      "                      bbox2.width+extra_width, bbox2.height])\n",
      "\n",
      "#old_pos = ax.get_position()\n",
      "#ax.set_position([0, old_pos.y0, old_pos.width, old_pos.height])\n",
      "\n",
      "savefig('figures/fig2.pdf',dpi=300)\n",
      "savefig('figures/fig2.tiff',dpi=300)\n",
      "savefig('figures/fig2.png',dpi=300)"
     ],
     "language": "python",
     "metadata": {},
     "outputs": []
    },
    {
     "cell_type": "code",
     "collapsed": false,
     "input": [
      "st_5_with_lat.columns"
     ],
     "language": "python",
     "metadata": {},
     "outputs": []
    },
    {
     "cell_type": "code",
     "collapsed": false,
     "input": [
      "BDGP_genes = set(st_5_with_lat.Gene_name).union(set(st_5_with_lat.FBgn)).union(set(st_5_with_lat.Name2))\n",
      "gn_to_fbgn = {line.strip().split()[1] :  line.split()[0] for line in open('../Reference/fbgns.txt')}\n",
      "NoFlyExpress = ['CG32251', 'CG6770', 'CG34252', 'BicC', 'mthl1', 'stai', 'mtrm',]\n",
      "NoFlyExpress = [gene for gene in is_diff.gene.unique() \n",
      "                if gene not in BDGP_genes and gn_to_fbgn.get(gene, gene) not in BDGP_genes]\n",
      "num_genes = len(NoFlyExpress)\n",
      "print NoFlyExpress\n",
      "\n",
      "aspect = .75\n",
      "fig_cols = max(floor(sqrt(num_genes)*aspect), 1)\n",
      "fig_rows = ceil(num_genes / fig_cols)\n",
      "print fig_rows, 'x' , fig_cols\n",
      "#fig_cols *= 2 # For both the image and the plot\n",
      "\n",
      "figure(figsize=(3.27,4),dpi=900)\n",
      "\n",
      "\n",
      "for i, gene in enumerate(NoFlyExpress):\n",
      "    #plot_gene(gene, fig_rows, fig_cols, i*2+1)\n",
      "    subplot(fig_rows, fig_cols, i+1)\n",
      "    ax = gca()\n",
      "    plot(fpkms.ix[gene])\n",
      "    xticks([])\n",
      "    yt_pos, yt_lab = yticks()\n",
      "    yticks([yt_pos[0], yt_pos[-1]])\n",
      "    ylabel(gene)\n",
      "    ax.yaxis.tick_right()\n",
      "    \n",
      "tight_layout()    \n",
      "    \n",
      "savefig('figures/maternal_noFlyEx.pdf',dpi=300)"
     ],
     "language": "python",
     "metadata": {},
     "outputs": []
    },
    {
     "cell_type": "heading",
     "level": 1,
     "metadata": {},
     "source": [
      "All Differential Genes"
     ]
    },
    {
     "cell_type": "code",
     "collapsed": false,
     "input": [
      "def selector(index):\n",
      "    gene_name = genediff.gene.ix[index]\n",
      "    return ((not genediff.sample_1.ix[index].startswith('Bcd')) \n",
      "            and (not genediff.sample_2.ix[index].startswith('Bcd'))\n",
      "            and ('CR' not in gene_name) \n",
      "            and ('RNA' not in gene_name))"
     ],
     "language": "python",
     "metadata": {},
     "outputs": []
    },
    {
     "cell_type": "code",
     "collapsed": false,
     "input": [
      "fbgn_to_name = {line.strip().split()[0]: line.strip().split()[1] for line in open('../Reference/fbgns.txt')}"
     ],
     "language": "python",
     "metadata": {},
     "outputs": []
    },
    {
     "cell_type": "code",
     "collapsed": false,
     "input": [
      "ish_imgs = pd.read_csv('../Reference/insitu_images.csv')\n",
      "ish_annots = pd.read_csv('../Reference/insitu_annot.csv', header=None, names=['ID1', 'ID2', 'FBgn', 'stage', 'annot'])\n",
      "all_bdgp = set(fbgn_to_name.get(ish_imgs.ix[row_num]['FBgn'], ish_imgs.ix[row_num][\"Name2\"]) for row_num in ish_imgs[ish_imgs.stage==2].index)"
     ],
     "language": "python",
     "metadata": {},
     "outputs": []
    },
    {
     "cell_type": "code",
     "collapsed": false,
     "input": [
      "all_tested = set(genediff.gene)\n",
      "mine = set(genediff[genediff.significant == 'yes'].select(selector).gene)\n",
      "theirs = set(fbgn_to_name.get(gn, 'notagene') \n",
      "             for gn in ish_annots[(ish_annots.stage == 2) * (ish_annots.annot == 'subset')].FBgn)\n",
      "theirs = {gn for gn in theirs if gn in all_tested}\n",
      "#theirs = set(st_5_with_lat.Gene_name)"
     ],
     "language": "python",
     "metadata": {},
     "outputs": []
    },
    {
     "cell_type": "code",
     "collapsed": false,
     "input": [
      "print len(mine.difference(all_bdgp))\n",
      "print len(mine.intersection(theirs))\n",
      "print len(mine.difference(theirs))\n",
      "print len(theirs.difference(mine))"
     ],
     "language": "python",
     "metadata": {},
     "outputs": []
    },
    {
     "cell_type": "code",
     "collapsed": false,
     "input": [
      "len(mine)"
     ],
     "language": "python",
     "metadata": {},
     "outputs": []
    },
    {
     "cell_type": "code",
     "collapsed": false,
     "input": [
      "len(theirs)"
     ],
     "language": "python",
     "metadata": {},
     "outputs": []
    },
    {
     "cell_type": "code",
     "collapsed": false,
     "input": [
      "hist([max(fpkms.ix[gene]) for gene in theirs.difference(mine) if gene in fpkms.index], arange(0,100))\n",
      "print sum(1 for gene in theirs.difference(mine) if gene in fpkms.index and max(fpkms.ix[gene]) < 20)\n",
      "len(theirs.difference(mine))\n",
      "\n"
     ],
     "language": "python",
     "metadata": {},
     "outputs": []
    },
    {
     "cell_type": "code",
     "collapsed": false,
     "input": [
      "expressed_no_sigcall = [gene for gene in theirs.difference(mine) if gene in fpkms.index and max(fpkms.ix[gene]) > 5]\n",
      "print expressed_no_sigcall\n",
      "print len(expressed_no_sigcall)"
     ],
     "language": "python",
     "metadata": {},
     "outputs": []
    },
    {
     "cell_type": "code",
     "collapsed": false,
     "input": [
      "bad_name_list = [gene for gene in theirs.difference(mine) if gene not in fpkms.index]\n",
      "print bad_name_list\n",
      "print len(bad_name_list)"
     ],
     "language": "python",
     "metadata": {},
     "outputs": []
    },
    {
     "cell_type": "code",
     "collapsed": false,
     "input": [
      "[gn for gn in mine.difference(all_bdgp)]"
     ],
     "language": "python",
     "metadata": {},
     "outputs": []
    },
    {
     "cell_type": "code",
     "collapsed": false,
     "input": [
      "mine.difference(theirs).intersection(all_bdgp)"
     ],
     "language": "python",
     "metadata": {},
     "outputs": []
    },
    {
     "cell_type": "code",
     "collapsed": false,
     "input": [
      "len(mine)"
     ],
     "language": "python",
     "metadata": {},
     "outputs": []
    },
    {
     "cell_type": "code",
     "collapsed": false,
     "input": [
      "sum_tab = pd.read_table('../analysis-multi/summary.tsv', index_col=0)\n",
      "\n",
      "dirs = {'CaS1': 1, 'CaS2': 1, 'CaS3':-1}\n",
      "markers = {'CaS1':'*', 'CaS2':'+', 'CaS3':'>'}\n"
     ],
     "language": "python",
     "metadata": {},
     "outputs": []
    },
    {
     "cell_type": "code",
     "collapsed": false,
     "input": [
      "figure(figsize=(6.83, 9.19))\n",
      "gene_list = sorted(mine.difference(all_bdgp), key=get_com)\n",
      "\n",
      "subplot_cols = 3.0\n",
      "subplot_rows = np.ceil(len(gene_list)/ subplot_cols)\n",
      "\n",
      "\n",
      "\n",
      "for subplot_num, gene_name in enumerate(gene_list):\n",
      "    if gene_name not in sum_tab.index:\n",
      "        print \"Something's wrong with \", gene_name\n",
      "        continue\n",
      "    ax = subplot(subplot_rows, subplot_cols, subplot_num + 1)\n",
      "    for exp_set in dirs:\n",
      "        color = ['b', 'r'][exp_set.startswith('Bcd')]\n",
      "        order = dirs[exp_set]\n",
      "        exp_data = (sum_tab.ix[gene_name].select(lambda x: x.startswith(exp_set)))\n",
      "        xs = linspace(0, 100, len(exp_data), False) * order\n",
      "        xs -= min(xs)\n",
      "        ax.plot(xs, exp_data, color = color, lw=1, marker=markers[exp_set])\n",
      "    ax.set_xticks([], [])\n",
      "    #ax.yaxis.tick_right()\n",
      "    ax.set_yticks([0, ax.get_yticks()[-1]])\n",
      "    ax.set_title(gene_name)\n",
      "    ax.set_xlim(-5,max(xs) + 5)\n",
      "    ax.set_ylim(0, ax.get_ylim()[1]*1.05)\n",
      "        \n",
      "tight_layout()\n",
      "savefig('Supp1_sig_noimg.pdf', dpi=300)"
     ],
     "language": "python",
     "metadata": {},
     "outputs": []
    },
    {
     "cell_type": "code",
     "collapsed": false,
     "input": [
      "name_to_fbgn = {line.strip().split()[1]: line.split()[0] for line in open('../Reference/fbgns.txt')}\n",
      "\n",
      "def plot_gene(gene_name,\n",
      "              subplot_rows = 1, subplot_cols = 2, subplot_num = 1,\n",
      "              plot_indiv = False):\n",
      "    if gene_name.startswith('FBgn'):\n",
      "        my_table = fpkms_fbgn\n",
      "    else:\n",
      "        my_table = fpkms\n",
      "    subplot(subplot_rows, subplot_cols, subplot_num)\n",
      "    data_col = 'FBgn' if gene_name.startswith('FBgn') else 'Name2'\n",
      "    for j, data_row in st_5_with_lat[st_5_with_lat['Name2'] == gene_name].iterrows():\n",
      "        try:\n",
      "            imdat = imget(data_row['imgfile'])\n",
      "            imshow(imdat, origin='lower')\n",
      "            shown = True\n",
      "            break\n",
      "        except IOError:\n",
      "            pass\n",
      "    else:\n",
      "        for j, data_row in st_5_with_lat[st_5_with_lat['FBgn'] == name_to_fbgn.get(gene_name, None)].iterrows():\n",
      "            try:\n",
      "                imdat = imget_bdgp(data_row['imgfile'])\n",
      "                imshow(imdat, origin='lower')\n",
      "                break\n",
      "            except IOError:\n",
      "                pass\n",
      "        else:\n",
      "            print \"Can't find image for\", gene_name\n",
      "    #rows, cols, rgb = shape(imdat)\n",
      "    ax1 = gca()\n",
      "    xticks([], [])\n",
      "    yticks([], [])\n",
      "    for spine in ax1.spines.itervalues():\n",
      "        spine.set_visible(False)\n",
      "    ylabel(gene_name)\n",
      "    subplot(subplot_rows, subplot_cols, subplot_num + 1)\n",
      "    ax2 = gca()\n",
      "    if gene_name in my_table.index:\n",
      "\n",
      "        if plot_indiv:\n",
      "            for exp_set in dirs:\n",
      "                color = ['b', 'r'][exp_set.startswith('Bcd')]\n",
      "                order = dirs[exp_set]\n",
      "                exp_data = (sum_tab.ix[gene_name].select(lambda x: x.startswith(exp_set)))\n",
      "                xs = linspace(0, 100, len(exp_data), False) * order\n",
      "                xs -= min(xs)\n",
      "                ax2.plot(xs, exp_data, color = color, lw=1, marker=markers[exp_set])\n",
      "                ax2.set_xlim(min(xs) - 5, max(xs) + 5)\n",
      "        else:\n",
      "            plot(linspace(0, 100, len(my_table.columns), False), my_table.ix[gene_name])\n",
      "        ax2.set_ylim(0, ax2.get_ylim()[1]*1.05)\n",
      "        xticks([], [])\n",
      "        old_ticks = yticks()[0]\n",
      "        yticks([0, old_ticks[-1]])\n",
      "        ax2.yaxis.tick_right()\n",
      "    else:\n",
      "        print \"Can't find data for\", gene_name\n",
      "    bbox1 = ax1.get_position()\n",
      "    bbox2 = ax2.get_position()\n",
      "    extra_width = (bbox2.x0 - bbox1.x1)/2 * 0.9\n",
      "    ax1.set_position([bbox1.x0+extra_width/2, bbox1.y0, \n",
      "                        bbox1.width+extra_width/2, bbox1.height])\n",
      "    ax2.set_position([bbox2.x0 - extra_width, bbox2.y0,\n",
      "                      bbox2.width+extra_width/2, bbox2.height])\n",
      "    return ax1, ax2\n"
     ],
     "language": "python",
     "metadata": {},
     "outputs": []
    },
    {
     "cell_type": "markdown",
     "metadata": {},
     "source": [
      "One possible concern is that all of the genes that are tagged with subset that I'm missing is a problem.  There's a lot of these genes, so maybe it is.  Let's make a figure for the supplement where we just look at all the patterns, and all the slices."
     ]
    },
    {
     "cell_type": "code",
     "collapsed": false,
     "input": [
      "len(expressed_no_sigcall)"
     ],
     "language": "python",
     "metadata": {},
     "outputs": []
    },
    {
     "cell_type": "code",
     "collapsed": false,
     "input": [
      "figure(figsize=(20, 50))\n",
      "gene_list = sorted(expressed_no_sigcall, key=get_com)\n",
      "\n",
      "subplot_cols = 6.0\n",
      "subplot_rows = np.ceil(len(gene_list)/ subplot_cols)\n",
      "subplot_cols *= 2\n",
      "\n",
      "\n",
      "for subplot_num, gene_name in enumerate(gene_list):\n",
      "    if gene_name not in sum_tab.index:\n",
      "        print \"Something's wrong with \", gene_name\n",
      "        continue\n",
      "    plot_gene(gene_name, subplot_rows, subplot_cols, 2*subplot_num+1, True)\n",
      "        \n",
      "#tight_layout()\n",
      "savefig('Supp2_NonSigSubset.pdf', dpi=300)"
     ],
     "language": "python",
     "metadata": {},
     "outputs": []
    },
    {
     "cell_type": "markdown",
     "metadata": {},
     "source": [
      "Now, looking at this figure, I'm pretty confident with a \"could you really say I was wrong\" attitude.  Most of them have pretty sucky *in situs*, and there's a just a bunch of cases where the expression pattern matches qualitatively with the slices, but there's just not a significance call.\n",
      "\n",
      "\n",
      "\n",
      "Plus, there's still a fair number of DV patterns, which there's just no reasonable way to expect me to catch."
     ]
    },
    {
     "cell_type": "code",
     "collapsed": false,
     "input": [
      "nosubset = mine.difference(theirs).intersection(all_bdgp)\n",
      "\n",
      "figure(figsize(16.5,10))\n",
      "subplot_cols = 6.0\n",
      "subplot_rows = np.ceil(len(nosubset)/ subplot_cols)\n",
      "subplot_cols *= 2\n",
      "\n",
      "print len(nosubset)\n",
      "\n",
      "for subplot_num, gene in enumerate(nosubset):\n",
      "    plot_gene(gene, subplot_rows, subplot_cols, subplot_num * 2 + 1)\n",
      "#tight_layout()\n",
      "savefig('figures/Supp3_diff_nosubset.png', dpi=300)\n",
      "savefig('figures/Supp3_diff_nosubset.pdf', dpi=300)"
     ],
     "language": "python",
     "metadata": {},
     "outputs": []
    },
    {
     "cell_type": "code",
     "collapsed": false,
     "input": [
      "gene_list"
     ],
     "language": "python",
     "metadata": {},
     "outputs": []
    },
    {
     "cell_type": "code",
     "collapsed": false,
     "input": [
      "imget??"
     ],
     "language": "python",
     "metadata": {},
     "outputs": []
    },
    {
     "cell_type": "code",
     "collapsed": false,
     "input": [],
     "language": "python",
     "metadata": {},
     "outputs": []
    }
   ],
   "metadata": {}
  }
 ]
}