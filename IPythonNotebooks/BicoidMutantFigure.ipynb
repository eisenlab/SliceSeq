{
 "metadata": {
  "name": "BicoidMutantFigure"
 },
 "nbformat": 3,
 "nbformat_minor": 0,
 "worksheets": [
  {
   "cells": [
    {
     "cell_type": "code",
     "collapsed": false,
     "input": [
      "import sys\n",
      "import pandas as pd\n",
      "from collections import defaultdict\n",
      "from os import path"
     ],
     "language": "python",
     "metadata": {},
     "outputs": []
    },
    {
     "cell_type": "heading",
     "level": 2,
     "metadata": {},
     "source": [
      "Figure 2 Redux"
     ]
    },
    {
     "cell_type": "code",
     "collapsed": false,
     "input": [
      "import pandas as pd"
     ],
     "language": "python",
     "metadata": {},
     "outputs": []
    },
    {
     "cell_type": "code",
     "collapsed": false,
     "input": [
      "BDGP_names = pd.read_csv('figures/insitu_images.csv')\n",
      "fig2_list = sorted([line.strip() for line in open('fig2_list.txt')])"
     ],
     "language": "python",
     "metadata": {},
     "outputs": []
    },
    {
     "cell_type": "code",
     "collapsed": false,
     "input": [
      "st_5_with_lat = BDGP_names[(BDGP_names['stage'] == 2) & (BDGP_names[\"view\"] == \"lateral\")]"
     ],
     "language": "python",
     "metadata": {},
     "outputs": []
    },
    {
     "cell_type": "code",
     "collapsed": false,
     "input": [
      "sys.path.append('../')\n",
      "from PlotUtils import imget"
     ],
     "language": "python",
     "metadata": {},
     "outputs": []
    },
    {
     "cell_type": "code",
     "collapsed": false,
     "input": [
      "table = pd.read_table('../analysis-multi/genes.fpkm_tracking', index_col=4)\n",
      "endswith_fpkm = lambda x: x.endswith('_FPKM')\n",
      "fpkms = table.select(endswith_fpkm, 1)\n",
      "cas_fpkms = table.select(lambda x: x.startswith(('A', 'P')) and x.endswith('FPKM'), 1)\n",
      "bcd_fpkms = table.select(lambda x: x.startswith('Bcd') and x.endswith('FPKM'), 1)\n",
      "\n",
      "cas_fpkms = cas_fpkms.reindex(columns=['AAA_FPKM', 'AA_FPKM', 'A_FPKM', 'P_FPKM', 'PP_FPKM', 'PPP_FPKM'])\n",
      "bcd_fpkms = bcd_fpkms.reindex(columns=['Bcd-AA_FPKM', 'Bcd-A_FPKM', 'Bcd-AP_FPKM', 'Bcd-P_FPKM', 'Bcd-PP_FPKM'])"
     ],
     "language": "python",
     "metadata": {},
     "outputs": []
    },
    {
     "cell_type": "code",
     "collapsed": false,
     "input": [
      "sum_tab = pd.read_table('../analysis-multi/summary_with_conf.tsv', index_col=0)\n",
      "\n",
      "dirs = {'CaS1': 1, 'CaS2': 1, 'CaS3':-1, 'Bcd1':1, 'Bcd2':-1, 'Bcd3':1}"
     ],
     "language": "python",
     "metadata": {},
     "outputs": []
    },
    {
     "cell_type": "code",
     "collapsed": false,
     "input": [
      "name = 'bcd'\n",
      "for exp_set in dirs:\n",
      "    exp_data = (sum_tab.ix[name].select(lambda x: x.startswith(exp_set)))\n",
      "    print exp_data.index"
     ],
     "language": "python",
     "metadata": {},
     "outputs": []
    },
    {
     "cell_type": "code",
     "collapsed": false,
     "input": [
      "markers = {'CaS1':'*', 'CaS2':'+', 'CaS3':'>', 'Bcd1':'*', 'Bcd2':'+', 'Bcd3':'>'}\n",
      "\n",
      "def plot_gene_with_bcd(gene_name,\n",
      "                       normed=False, has_indiv = False,\n",
      "                       subplot_rows = 1, subplot_cols = 2, subplot_num = 1):\n",
      "    subplot(subplot_rows, subplot_cols, subplot_num)\n",
      "    shown = False\n",
      "    for j, data_row in st_5_with_lat[st_5_with_lat['Name2'] == gene_name].iterrows():\n",
      "        try:\n",
      "            imdat = imget(data_row['imgfile'])\n",
      "            imshow(imdat, origin='lower')\n",
      "            shown = True\n",
      "            break\n",
      "        except IOError:\n",
      "            pass\n",
      "    if not shown:\n",
      "        print \"Can't find image for\", gene_name\n",
      "    #rows, cols, rgb = shape(imdat)\n",
      "    ax1 = gca()\n",
      "    xticks([], [])\n",
      "    yticks([], [])\n",
      "    for spine in ax1.spines.itervalues():\n",
      "        spine.set_visible(False)\n",
      "    ylabel(gene_name)\n",
      "    subplot(subplot_rows, subplot_cols, subplot_num + 1)\n",
      "    ax2 = gca()\n",
      "    if gene_name in fpkms.index:\n",
      "\n",
      "        if normed:\n",
      "            normvals  = [cas_fpkms.ix[gene_name].max(),\n",
      "                         bcd_fpkms.ix[gene_name].max()]   \n",
      "        else:\n",
      "            normvals = [1,1]\n",
      "            \n",
      "        if has_indiv:\n",
      "            for exp_set in dirs:\n",
      "                color = ['b', 'r'][exp_set.startswith('Bcd')]\n",
      "                order = dirs[exp_set]\n",
      "                exp_data = (sum_tab.ix[gene_name].select(lambda x: x.startswith(exp_set)) / \n",
      "                             normvals[exp_set.startswith('Bcd')])\n",
      "                xs = linspace(0, 100, len(exp_data), False) * order\n",
      "                xs -= min(xs)\n",
      "                plot(xs, exp_data, color = color, lw=1, marker=markers[exp_set])\n",
      "\n",
      "        ax2.plot(linspace(0, 100, len(cas_fpkms.columns), False), cas_fpkms.ix[gene_name]/normvals[0], color='b')\n",
      "        ax2.plot(linspace(0, 100, len(bcd_fpkms.columns), False), bcd_fpkms.ix[gene_name]/normvals[1], color='r')\n",
      "        xticks([], [])\n",
      "        old_ticks = yticks()[0]\n",
      "        yticks([0, old_ticks[-1]])\n",
      "        ax2.yaxis.tick_right()\n",
      "    else:\n",
      "        print \"Can't find data for\", gene_name\n",
      "    return ax1, ax2\n"
     ],
     "language": "python",
     "metadata": {},
     "outputs": []
    },
    {
     "cell_type": "code",
     "collapsed": false,
     "input": [
      "dpi=300\n",
      "buf = 10\n",
      "cmp_by_expr = lambda exp_set: lambda x, y : cmp(exp_set.ix[x].mean(), exp_set.ix[y].mean)\n",
      "fig2_list = sorted([line.strip() for line in open('fig2_list.txt')])\n",
      "#fig2_list = sorted([line.strip() for line in open('fig2_list.txt')], cmp=cmp_by_expr(bcd_fpkms))\n",
      "num_genes = len(fig2_list)\n",
      "normed = False\n",
      "markers = {'CaS1':'*', 'CaS2':'+', 'CaS3':'>', 'Bcd1':'*', 'Bcd2':'+', 'Bcd3':'>'}\n",
      "\n",
      "aspect = 1/2.\n",
      "fig_cols = 4.0 # max(floor(sqrt(num_genes)*aspect), 1)\n",
      "fig_rows = ceil(num_genes / fig_cols)\n",
      "\n",
      "fig_cols *= 2 # For both the image and the plot\n",
      "\n",
      "\n",
      "all_axes = []\n",
      "figure(figsize=(6.83,9.19),dpi=900)\n",
      "for i, name in enumerate(fig2_list):\n",
      "    ret = plot_gene_with_bcd(name, normed = normed, has_indiv = False,\n",
      "                       subplot_rows = fig_rows, subplot_cols = fig_cols, \n",
      "                       subplot_num = 2*i+1)\n",
      "    all_axes.append(ret)\n",
      "    \n",
      "\n",
      "tight_layout()\n",
      "\n",
      "for ax1, ax2 in all_axes:\n",
      "    bbox1 = ax1.get_position()\n",
      "    bbox2 = ax2.get_position()\n",
      "    extra_width = (bbox2.x0 - bbox1.x1)/2 * 0.9\n",
      "    ax1.set_position([bbox1.x0, bbox1.y0, \n",
      "                        bbox1.width+extra_width, bbox1.height])\n",
      "    ax2.set_position([bbox2.x0 - extra_width, bbox2.y0,\n",
      "                      bbox2.width+extra_width, bbox2.height])\n",
      "\n",
      "        \n",
      "savefig('figures/bcd_fig.png',dpi=300)\n",
      "savefig('figures/bcd_fig.eps',dpi=300)\n"
     ],
     "language": "python",
     "metadata": {},
     "outputs": []
    },
    {
     "cell_type": "code",
     "collapsed": false,
     "input": [
      "figure(1,(8,6))\n",
      "plot_gene_with_bcd('kni', has_indiv=True, normed=False)\n",
      "xlim(-5,100)"
     ],
     "language": "python",
     "metadata": {},
     "outputs": []
    },
    {
     "cell_type": "code",
     "collapsed": false,
     "input": [
      "susan_data = pd.read_table('../journal.pbio.1000590.s002.txt')\n",
      "mat_list = susan_data[susan_data.CLASS == 'mat'].NAME\n",
      "print 'bcd' in mat_list"
     ],
     "language": "python",
     "metadata": {},
     "outputs": []
    },
    {
     "cell_type": "code",
     "collapsed": false,
     "input": [
      "sum(mat_list == 'bcd')"
     ],
     "language": "python",
     "metadata": {},
     "outputs": []
    },
    {
     "cell_type": "code",
     "collapsed": false,
     "input": [
      "count = 0\n",
      "for gene in fpkms.index:\n",
      "    if gene not in bcd_fpkms.index or gene not in cas_fpkms.index or sum(mat_list == gene) :\n",
      "        continue\n",
      "    if min(bcd_fpkms.ix[gene]) > max(cas_fpkms.ix[gene]):\n",
      "        print \"%s & %s & %s\\\\\\\\\" % (gene, bcd_fpkms.ix[gene].mean(), cas_fpkms.ix[gene].mean())\n",
      "        count += 1\n",
      "print \"There are\", count, \"non-maternals genes with higher expression\" "
     ],
     "language": "python",
     "metadata": {},
     "outputs": []
    },
    {
     "cell_type": "code",
     "collapsed": false,
     "input": [
      "figure(figsize=(4,3))\n",
      "plot_gene_with_bcd('lab')\n",
      "figure()\n",
      "plot_gene_with_bcd('pb')\n",
      "figure()\n",
      "plot_gene_with_bcd('Dfd')\n",
      "figure()\n",
      "plot_gene_with_bcd('Scr')\n",
      "figure()\n",
      "plot_gene_with_bcd('Antp')\n",
      "figure()\n",
      "plot_gene_with_bcd('Ubx')\n",
      "figure()\n",
      "plot_gene_with_bcd('Abd-A')\n",
      "figure()\n",
      "plot_gene_with_bcd('Abd-B')"
     ],
     "language": "python",
     "metadata": {},
     "outputs": []
    },
    {
     "cell_type": "heading",
     "level": 1,
     "metadata": {},
     "source": [
      "Other attempts at figures"
     ]
    },
    {
     "cell_type": "code",
     "collapsed": false,
     "input": [
      "bicoid_data_1 = pd.read_table('BDTNP_Release/bcd_1_012505-sym-1_table.txt')\n",
      "bicoid_edata_2 = pd.read_table('BDTNP_Release/bcd_2_092005-sym-1_table.txt')"
     ],
     "language": "python",
     "metadata": {},
     "outputs": []
    },
    {
     "cell_type": "code",
     "collapsed": false,
     "input": [
      "closest_1 = set(bicoid_data_1.Closest_transcribed_gene)\n",
      "closest_2 = set(bicoid_data_2.Closest_transcribed_gene)"
     ],
     "language": "python",
     "metadata": {},
     "outputs": []
    },
    {
     "cell_type": "code",
     "collapsed": false,
     "input": [
      "all_closest = closest_1.union(closest_2)"
     ],
     "language": "python",
     "metadata": {},
     "outputs": []
    },
    {
     "cell_type": "code",
     "collapsed": false,
     "input": [
      "table = pd.read_table('with_bcd.fpkm_tracking', index_col=4)\n",
      "table_nobcd = pd.read_table('bcd_only.fpkm_tracking', index_col=4)\n",
      "endswith_fpkm = lambda x: x.endswith('_FPKM')\n",
      "fpkms = table.select(endswith_fpkm, 1)\n",
      "cas_fpkms = table.select(lambda x: x.startswith(('A', 'P')) and x.endswith('FPKM'), 1)\n",
      "bcd_fpkms = table_nobcd.select(lambda x: x.startswith('Bcd') and x.endswith('FPKM'), 1)"
     ],
     "language": "python",
     "metadata": {},
     "outputs": []
    },
    {
     "cell_type": "code",
     "collapsed": false,
     "input": [
      "CAS_FPKM = cas_fpkms.transpose().dropna(how='any')\n",
      "BCD_FPKM = bcd_fpkms.transpose().dropna(how='any')"
     ],
     "language": "python",
     "metadata": {},
     "outputs": []
    },
    {
     "cell_type": "code",
     "collapsed": false,
     "input": [
      "med_cas = (CAS_FPKM / CAS_FPKM.mean()).transpose().dropna(how='any')\n",
      "med_bcd = (BCD_FPKM / BCD_FPKM.mean()).transpose().dropna(how='any')"
     ],
     "language": "python",
     "metadata": {},
     "outputs": []
    },
    {
     "cell_type": "code",
     "collapsed": false,
     "input": [
      "med_cas.mean().plot(label='All genes')\n",
      "med_cas.select(lambda x: x in all_closest).mean().plot(label='Near BCD site')\n",
      "med_bcd.mean().plot(label='All genes in Bcd +5/+8')\n",
      "med_bcd.select(lambda x: x in all_closest).mean().plot(label='Near BCD site in +5/+8')\n",
      "legend()"
     ],
     "language": "python",
     "metadata": {},
     "outputs": []
    },
    {
     "cell_type": "code",
     "collapsed": false,
     "input": [
      "has_bcd_site = lambda x: x in all_closest\n",
      "no_bcd_site = lambda x: x not in all_closest\n",
      "c_mat = corrcoef(bcd_fpkms.T, cas_fpkms.T)[0:5,5:]\n",
      "non_bcd_c_mat = corrcoef(bcd_fpkms.select(no_bcd_site).T, cas_fpkms.select(no_bcd_site).T)[0:5,5:]\n",
      "bcd_c_mat = corrcoef(bcd_fpkms.select(has_bcd_site).T, cas_fpkms.select(has_bcd_site).T)[0:5,5:]\n",
      "allcorrs = corrcoef(cas_fpkms.T, bcd_fpkms.T)"
     ],
     "language": "python",
     "metadata": {},
     "outputs": []
    },
    {
     "cell_type": "code",
     "collapsed": false,
     "input": [
      "figure()\n",
      "pcolor(c_mat)\n",
      "colorbar()\n",
      "yticks([0.5,4.5], ['6x Bcd Anterior', '6x Bcd Posterior'])\n",
      "xticks([0.5,5.5], ['WT Anterior', 'WT Posterior'])\n",
      "figure()\n",
      "pcolor(non_bcd_c_mat)\n",
      "yticks([0.5,4.5], ['6x Bcd Anterior', '6x Bcd Posterior'])\n",
      "xticks([0.5,5.5], ['WT Anterior', 'WT Posterior'])\n",
      "colorbar()\n",
      "figure()\n",
      "pcolor(bcd_c_mat)\n",
      "yticks([0.5,4.5], ['6x Bcd Anterior', '6x Bcd Posterior'])\n",
      "xticks([0.5,5.5], ['WT Anterior', 'WT Posterior'])\n",
      "colorbar()\n",
      "figure()\n",
      "\n",
      "pcolor(allcorrs)\n",
      "xticks([0.5,5.5, 6.5, 10.5], ['WT Anterior', 'WT Posterior', '6x Bcd Anterior', '6x Bcd Posterior'],\n",
      "       rotation=90)\n",
      "yticks([0.5,5.5, 6.5, 10.5], ['WT Anterior', 'WT Posterior', '6x Bcd Anterior', '6x Bcd Posterior'],\n",
      "       rotation=0)\n",
      "vlines(6,0,11, color='k', lw=3)\n",
      "hlines(6, 0, 11, color='k', lw=3)\n",
      "colorbar()"
     ],
     "language": "python",
     "metadata": {},
     "outputs": []
    },
    {
     "cell_type": "code",
     "collapsed": false,
     "input": [
      "n_bcd = shape(bcd_fpkms)[1]\n",
      "n_cas = shape(cas_fpkms)[1]\n",
      "embryo_size = 100 # = Percent Embryo length\n",
      "\n",
      "bcd_posns = linspace(0, embryo_size, n_bcd, endpoint=False)\n",
      "cas_posns = linspace(0, embryo_size, n_cas, endpoint=False)\n",
      "\n",
      "\n",
      "dPos = pd.Series(index = bcd_fpkms.index)\n",
      "# Bicoid shifted rearward -> positive\n",
      "\n",
      "skipped = []\n",
      "for gene in bcd_fpkms.index:\n",
      "    if gene not in cas_fpkms.index: \n",
      "        skipped.append(gene)\n",
      "        continue\n",
      "    p_cas = sum(cas_posns * cas_fpkms.ix[gene]) / sum(cas_fpkms.ix[gene])\n",
      "    p_bcd = sum(bcd_posns * bcd_fpkms.ix[gene]) / sum(bcd_fpkms.ix[gene])\n",
      "    dPos[gene] = p_bcd - p_cas\n",
      "\n",
      "dPos = dPos.dropna()    \n",
      "dPos.sort()\n",
      "dPosExpressed = dPos[fpkms.min(axis=1) > 0]"
     ],
     "language": "python",
     "metadata": {},
     "outputs": []
    },
    {
     "cell_type": "code",
     "collapsed": false,
     "input": [
      "dPosExpressed.to_csv('by_pos_diff.txt', sep='\\t')\n"
     ],
     "language": "python",
     "metadata": {},
     "outputs": []
    },
    {
     "cell_type": "code",
     "collapsed": false,
     "input": [
      "len(skipped)"
     ],
     "language": "python",
     "metadata": {},
     "outputs": []
    },
    {
     "cell_type": "code",
     "collapsed": false,
     "input": [
      "dPosExpressed.hist(bins=arange(-100, 100, 1), normed=True,label='Expressed genes')\n",
      "dPos.hist(bins=arange(-100, 100, 1), normed=True, label='All genes')\n",
      "legend()\n",
      "figure()\n",
      "dPosExpressed.hist(bins=arange(-25, 25, 1), label='Expressed genes')\n",
      "legend()"
     ],
     "language": "python",
     "metadata": {},
     "outputs": []
    },
    {
     "cell_type": "code",
     "collapsed": false,
     "input": [
      "dPos['tsh']"
     ],
     "language": "python",
     "metadata": {},
     "outputs": []
    },
    {
     "cell_type": "code",
     "collapsed": false,
     "input": [
      "dPos.select(lambda x: table.ix[x][\"gene_id\"] in all_closest).hist(bins=arange(-50, 50))"
     ],
     "language": "python",
     "metadata": {},
     "outputs": []
    },
    {
     "cell_type": "code",
     "collapsed": false,
     "input": [
      "sum_tab = pd.read_table('summary_with_bcd.tsv', index_col=0)\n",
      "\n",
      "dirs = {'CaS1': 1, 'CaS2': 1, 'CaS3':-1, 'Bcd1':1, 'Bcd2':-1, 'Bcd3':1}"
     ],
     "language": "python",
     "metadata": {},
     "outputs": []
    },
    {
     "cell_type": "code",
     "collapsed": false,
     "input": [
      "all_corrs_indiv = corrcoef(sum_tab.T)"
     ],
     "language": "python",
     "metadata": {},
     "outputs": []
    },
    {
     "cell_type": "code",
     "collapsed": false,
     "input": [
      "figure(figsize=(12,10))\n",
      "pcolor(all_corrs_indiv)\n",
      "seps = cumsum([5,7,5,6,6,6])\n",
      "colorbar()\n",
      "for i in seps:\n",
      "    vlines(i, 0, 35, lw=3)\n",
      "    hlines(i, 0, 35, lw=3)"
     ],
     "language": "python",
     "metadata": {},
     "outputs": []
    },
    {
     "cell_type": "code",
     "collapsed": false,
     "input": [
      "sum_tab_genes = set(sum_tab.index)\n",
      "fpkm_genes = set(fpkms.index)\n",
      "in_both = sum_tab_genes.intersection(fpkm_genes)"
     ],
     "language": "python",
     "metadata": {},
     "outputs": []
    },
    {
     "cell_type": "code",
     "collapsed": false,
     "input": [
      "is_in_both = lambda x: x in in_both\n",
      "both_indiv = sum_tab.select(is_in_both).sort_index()\n",
      "both_poold = fpkms.select(is_in_both).sort_index()"
     ],
     "language": "python",
     "metadata": {},
     "outputs": []
    },
    {
     "cell_type": "code",
     "collapsed": false,
     "input": [
      "indiv_on_pooled = corrcoef( both_indiv.T, both_poold.T)"
     ],
     "language": "python",
     "metadata": {},
     "outputs": []
    },
    {
     "cell_type": "code",
     "collapsed": false,
     "input": [
      "pcolor(indiv_on_pooled[35:,:35])\n",
      "colorbar()\n",
      "hlines(5, 0, 35, lw=3)\n",
      "for i in seps:\n",
      "    vlines(i, 0, 11, lw=3)\n",
      "xticks(arange(len(both_indiv.columns)), both_indiv.columns,rotation=90)\n",
      "print None"
     ],
     "language": "python",
     "metadata": {},
     "outputs": []
    },
    {
     "cell_type": "code",
     "collapsed": false,
     "input": [
      "plot(sum_tab.select(is_in_both).CaS1A,fpkms.select(is_in_both).AAA_FPKM,'.')"
     ],
     "language": "python",
     "metadata": {},
     "outputs": []
    },
    {
     "cell_type": "code",
     "collapsed": false,
     "input": [
      "print len(sum_tab_genes.difference(fpkm_genes))\n",
      "print len(fpkm_genes.difference(sum_tab_genes))"
     ],
     "language": "python",
     "metadata": {},
     "outputs": []
    }
   ],
   "metadata": {}
  }
 ]
}