{
 "metadata": {
  "name": "RunBayesMatch"
 },
 "nbformat": 3,
 "nbformat_minor": 0,
 "worksheets": [
  {
   "cells": [
    {
     "cell_type": "code",
     "collapsed": false,
     "input": [
      "run ../BayesMatch.py ../analysis-multi/summary_with_conf.tsv"
     ],
     "language": "python",
     "metadata": {},
     "outputs": []
    },
    {
     "cell_type": "code",
     "collapsed": false,
     "input": [
      "run ../BayesMatch.py --colormap gist_rainbow --set A,P ../analysis-multi/genes.fpkm_tracking -W 6.83 -H 1.5"
     ],
     "language": "python",
     "metadata": {},
     "outputs": []
    },
    {
     "cell_type": "code",
     "collapsed": false,
     "input": [
      "run -p ../BayesMatch.py --set CaS1 --set CaS2 --set CaS3 ../analysis-multi/summary_with_conf.tsv"
     ],
     "language": "python",
     "metadata": {},
     "outputs": []
    },
    {
     "cell_type": "code",
     "collapsed": false,
     "input": [
      "run ../BayesMatch.py --set Bcd with_bcd.fpkm_tracking"
     ],
     "language": "python",
     "metadata": {},
     "outputs": []
    },
    {
     "cell_type": "markdown",
     "metadata": {},
     "source": [
      "Futzing with plotting\n",
      "---------------------\n",
      "\n",
      "\n",
      "Thesis committee felt like just the peaks was confusing, so here's where I experimented to add the bars indicating positions"
     ]
    },
    {
     "cell_type": "code",
     "collapsed": false,
     "input": [
      "n_pos, n_samples = shape(priors)\n",
      "mpl.cm.__getattribute__('jet')\n",
      "print FPKM_cols"
     ],
     "language": "python",
     "metadata": {},
     "outputs": []
    },
    {
     "cell_type": "code",
     "collapsed": false,
     "input": [
      "args.colormap = 'gist_rainbow'\n",
      "my_cm = mpl.cm.__getattribute__(args.colormap)\n",
      "plots = []\n",
      "for i in range(n_samples):\n",
      "    plots.extend(mpl.plot(priors[:,i], label=FPKM_cols[i].replace('_FPKM', ''), color = my_cm(i * 256 / (n_samples+1))))\n",
      "ax = mpl.gca()\n",
      "\n",
      "Y = priors.max()\n",
      "dY = 0.25 * Y\n",
      "Y += dY\n",
      "ests = [sum(np.arange(n_pos) * priors[:,i]) for i in range(6)]\n",
      "for plot, x in zip(plots, ests):\n",
      "    print \"Rectangle at\", (x, Y), (60, dY)\n",
      "    mpl.vlines(x, plot.get_data()[1][x], Y+dY, edgecolor=plot.get_color(), linestyles='dotted')\n",
      "    ax.add_artist(mpl.Rectangle((x, Y), 60, dY, facecolor=plot.get_color(), alpha=0.7))\n",
      "    #Y += dY\n",
      "\n",
      "mpl.title(\"Slice Position estimates\")\n",
      "mpl.xlabel(\"A/P position ($\\\\mu$m)\")\n",
      "mpl.ylabel(\"P(start @ $x\\\\pm1\\\\mu$m)\")\n",
      "box = ax.get_position()\n",
      "ax.set_position([box.x0, box.y0, box.width * 0.8, box.height])\n",
      "\n",
      "# Put a legend to the right of the current axis\n",
      "ax.legend(loc='center left', bbox_to_anchor=(1, 0.5))\n",
      "\n",
      "mpl.show()"
     ],
     "language": "python",
     "metadata": {},
     "outputs": []
    },
    {
     "cell_type": "code",
     "collapsed": false,
     "input": [
      "cm.jet(0)"
     ],
     "language": "python",
     "metadata": {},
     "outputs": []
    },
    {
     "cell_type": "code",
     "collapsed": false,
     "input": [
      "x = \"('A', 'P')\"\n",
      "print x.translate(None,' \\'(),\"')"
     ],
     "language": "python",
     "metadata": {},
     "outputs": []
    },
    {
     "cell_type": "markdown",
     "metadata": {},
     "source": [
      "Gold Standards\n",
      "--------------\n",
      "\n",
      "Thesis committee felt like I should feed the original data back in through itself, \n",
      "so I know exactly how well I can do. The concern was that the peak positions were \n",
      "too broad, and I had made a claim that at certain locations, it was simply harder to\n",
      "know.  I should take the initial data (both the FPKMs from Susan's set, and the BDTNP \n",
      "data), put it together in a way that it should match things very precisely, then see\n",
      "how well it actually does.  I'm less interested in how quickly it converges to the right \n",
      "time point, although if it doesn't converge pretty quickly, then there's a problem. \n",
      "\n"
     ]
    },
    {
     "cell_type": "code",
     "collapsed": false,
     "input": [
      "import pandas as pd\n",
      "import PointClouds as pc"
     ],
     "language": "python",
     "metadata": {},
     "outputs": []
    },
    {
     "cell_type": "code",
     "collapsed": false,
     "input": [
      "endswith_fpkm = lambda x: x.endswith('FPKM')"
     ],
     "language": "python",
     "metadata": {},
     "outputs": []
    },
    {
     "cell_type": "code",
     "collapsed": false,
     "input": [
      "standard_posns = array([30,90,150,210,270,330])"
     ],
     "language": "python",
     "metadata": {},
     "outputs": []
    },
    {
     "cell_type": "code",
     "collapsed": false,
     "input": [
      "shape(slices)"
     ],
     "language": "python",
     "metadata": {},
     "outputs": []
    },
    {
     "cell_type": "code",
     "collapsed": false,
     "input": [
      "sel_slices = pd.DataFrame(slices[standard_posns, :, 4])"
     ],
     "language": "python",
     "metadata": {},
     "outputs": []
    },
    {
     "cell_type": "code",
     "collapsed": false,
     "input": [
      "pcr = pc.PointCloudReader(open('../D_mel_wt_atlas_r2.vpc'))"
     ],
     "language": "python",
     "metadata": {},
     "outputs": []
    },
    {
     "cell_type": "code",
     "collapsed": false,
     "input": [
      "sel_slices.index = ['Pos'+str(i)+'u_FPKM' for i in standard_posns]\n",
      "sel_slices.columns = list(pcr.get_gene_names())"
     ],
     "language": "python",
     "metadata": {},
     "outputs": []
    },
    {
     "cell_type": "code",
     "collapsed": false,
     "input": [
      "with_vals = sel_slices.transpose().dropna(how='any').select(lambda x: not x.endswith('P'))"
     ],
     "language": "python",
     "metadata": {},
     "outputs": []
    },
    {
     "cell_type": "code",
     "collapsed": false,
     "input": [
      "susan = pd.read_table('../susan/by_cycle/cyc_14b.txt', index_col = 0)\n"
     ],
     "language": "python",
     "metadata": {},
     "outputs": []
    },
    {
     "cell_type": "code",
     "collapsed": false,
     "input": [
      "with_vals = with_vals.select(lambda x: x in susan.index)\n",
      "susan = susan.select(lambda x: x in with_vals.index)"
     ],
     "language": "python",
     "metadata": {},
     "outputs": []
    },
    {
     "cell_type": "code",
     "collapsed": false,
     "input": [
      "mean_susan = np.mean(susan, axis=1)\n",
      "std_susan = np.std(susan, axis=1)"
     ],
     "language": "python",
     "metadata": {},
     "outputs": []
    },
    {
     "cell_type": "code",
     "collapsed": false,
     "input": [
      "ret = with_vals.copy()\n",
      "mean_slices = mean(with_vals, axis=1)\n",
      "for row in ret.index:\n",
      "    ret.ix[row] /= mean_slices.ix[row]\n",
      "#print mean(ret, axis=1)"
     ],
     "language": "python",
     "metadata": {},
     "outputs": []
    },
    {
     "cell_type": "code",
     "collapsed": false,
     "input": [
      "ret_vals = with_vals.copy()\n",
      "mean_vals = mean(ret_vals, axis=1)\n",
      "for row in with_vals.index:\n",
      "    ret_vals.ix[row] /= mean_vals.ix[row]\n",
      "for column in with_vals.columns:\n",
      "    ret_vals[column] *=  mean_susan\n",
      "    hi_name = column.replace('FPKM', 'conf_hi')\n",
      "    lo_name = column.replace('FPKM', 'conf_lo')\n",
      "    ret_vals[hi_name] = ret_vals[column] * (mean_susan + 2 * std_susan) / mean_susan\n",
      "    ret_vals[lo_name] = np.clip(ret_vals[column] * (mean_susan - 2* std_susan) / mean_susan, 0, np.Inf)"
     ],
     "language": "python",
     "metadata": {},
     "outputs": []
    },
    {
     "cell_type": "code",
     "collapsed": false,
     "input": [
      "print mean_susan['gt']\n",
      "mean(ret_vals.ix['gt'].select(lambda x: x.endswith('FPKM')))"
     ],
     "language": "python",
     "metadata": {},
     "outputs": []
    },
    {
     "cell_type": "code",
     "collapsed": false,
     "input": [
      "ret_vals.to_csv('../susan/FakeSlicesT4_cyc14b.expr', sep='\\t', index_label='gene_short_name')"
     ],
     "language": "python",
     "metadata": {},
     "outputs": []
    },
    {
     "cell_type": "code",
     "collapsed": false,
     "input": [
      "run ../BayesMatch.py --set Pos ../susan/FakeSlicesT4_cyc14b.expr"
     ],
     "language": "python",
     "metadata": {},
     "outputs": []
    },
    {
     "cell_type": "code",
     "collapsed": false,
     "input": [
      "gene = 'hb'\n",
      "probs = [prob(frame.ix[gene], cycle.ix[gene]) for cycle in cycles]\n",
      "print probs\n",
      "print probs[cycnames.index('../susan/by_cycle/cyc_14b.txt')]"
     ],
     "language": "python",
     "metadata": {},
     "outputs": []
    },
    {
     "cell_type": "code",
     "collapsed": false,
     "input": [
      "for cycle in cycles:\n",
      "    print cycle.ix[gene]\n",
      "    print '-'*60"
     ],
     "language": "python",
     "metadata": {},
     "outputs": []
    },
    {
     "cell_type": "code",
     "collapsed": false,
     "input": [
      "gt = frame.ix[gene]\n",
      "print gt.select(endswith_fpkm)\n",
      "\n",
      "print mean(gt.select(endswith_fpkm))"
     ],
     "language": "python",
     "metadata": {},
     "outputs": []
    },
    {
     "cell_type": "code",
     "collapsed": false,
     "input": [
      "with_vals.ix[gene]"
     ],
     "language": "python",
     "metadata": {},
     "outputs": []
    },
    {
     "cell_type": "code",
     "collapsed": false,
     "input": [
      "T4 = slice_frames[4].dropna(how='any')"
     ],
     "language": "python",
     "metadata": {},
     "outputs": []
    },
    {
     "cell_type": "code",
     "collapsed": false,
     "input": [
      "print frame.ix[gene].select(endswith_fpkm)"
     ],
     "language": "python",
     "metadata": {},
     "outputs": []
    },
    {
     "cell_type": "code",
     "collapsed": false,
     "input": [
      "\n",
      "print gene\n",
      "normed = (T4.ix[gene] / mean(T4.ix[gene]) * np.mean(best_cycle.ix[gene], axis=1))\n",
      "normed.plot()\n",
      "for val in frame.ix[gene].select(endswith_fpkm):\n",
      "    hlines(val, 0, 450)\n",
      "for col in FPKM_cols:\n",
      "    figure()\n",
      "    std = get_std(col, frame)\n",
      "    evidence = stats.zprob(-np.abs((normed - frame[col][gene])/(std + 1)))\n",
      "    evidence.plot()\n",
      "    title(col)"
     ],
     "language": "python",
     "metadata": {},
     "outputs": []
    },
    {
     "cell_type": "code",
     "collapsed": false,
     "input": [
      "arange(450)[array([[1,2,3],[3,4,5],[6,7,8]])]"
     ],
     "language": "python",
     "metadata": {},
     "outputs": []
    },
    {
     "cell_type": "code",
     "collapsed": false,
     "input": [
      "l = len(T4.ix[gene])\n",
      "l\n",
      "riffle = (vstack([arange(l)]*(1 + l//60)) % 60 + reshape(arange(0,l, 60), (l//60+1, 1))) % l"
     ],
     "language": "python",
     "metadata": {},
     "outputs": []
    },
    {
     "cell_type": "code",
     "collapsed": false,
     "input": [
      "riffle.max()"
     ],
     "language": "python",
     "metadata": {},
     "outputs": []
    },
    {
     "cell_type": "code",
     "collapsed": false,
     "input": [
      "for gene in T4.index:\n",
      "    rifres = mean(array(T4.ix[gene])[riffle], axis=0)\n",
      "    print gene, rifres.min(), mean(T4.ix[gene]), rifres.max()"
     ],
     "language": "python",
     "metadata": {},
     "outputs": []
    },
    {
     "cell_type": "code",
     "collapsed": false,
     "input": [
      "print mean(T4.ix[gene])"
     ],
     "language": "python",
     "metadata": {},
     "outputs": []
    },
    {
     "cell_type": "markdown",
     "metadata": {},
     "source": [
      "$e^{i \\pi} = -1$"
     ]
    },
    {
     "cell_type": "code",
     "collapsed": false,
     "input": [],
     "language": "python",
     "metadata": {},
     "outputs": []
    }
   ],
   "metadata": {}
  }
 ]
}