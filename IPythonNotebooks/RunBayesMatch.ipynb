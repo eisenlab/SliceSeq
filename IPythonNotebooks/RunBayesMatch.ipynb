{
 "metadata": {
  "name": "RunBayesMatch"
 },
 "nbformat": 3,
 "nbformat_minor": 0,
 "worksheets": [
  {
   "cells": [
    {
     "cell_type": "code",
     "collapsed": false,
     "input": [
      "run ../BayesMatch.py ../analysis-multi/summary_with_conf.tsv"
     ],
     "language": "python",
     "metadata": {},
     "outputs": []
    },
    {
     "cell_type": "code",
     "collapsed": false,
     "input": [
      "run ../BayesMatch.py --colormap gist_rainbow --set A,P ../analysis-multi/genes.fpkm_tracking -W 6.83 -H 1.5"
     ],
     "language": "python",
     "metadata": {},
     "outputs": []
    },
    {
     "cell_type": "code",
     "collapsed": false,
     "input": [
      "run ../BayesMatch.py --set CaS1 --set CaS2 --set CaS3 ../analysis-multi/summary_with_conf.tsv"
     ],
     "language": "python",
     "metadata": {},
     "outputs": []
    },
    {
     "cell_type": "code",
     "collapsed": false,
     "input": [
      "run ../BayesMatch.py --set Bcd ../analysis-multi/genes.fpkm_tracking"
     ],
     "language": "python",
     "metadata": {},
     "outputs": []
    },
    {
     "cell_type": "heading",
     "level": 2,
     "metadata": {},
     "source": [
      "Near bicoid sites:"
     ]
    },
    {
     "cell_type": "code",
     "collapsed": false,
     "input": [
      "pwd"
     ],
     "language": "python",
     "metadata": {},
     "outputs": [],
     "prompt_number": "*"
    },
    {
     "cell_type": "code",
     "collapsed": false,
     "input": [
      "import pandas as pd\n",
      "table1 = pd.read_table('../BDTNP_Release/25_percent_FDR/bcd_1_012505-sym-25_table.txt')\n",
      "table2 = pd.read_table('../BDTNP_Release/25_percent_FDR/bcd_2_092005-sym-25_table.txt')"
     ],
     "language": "python",
     "metadata": {},
     "outputs": [],
     "prompt_number": "*"
    },
    {
     "cell_type": "code",
     "collapsed": false,
     "input": [
      "from __builtin__ import set\n",
      "genes_near_bcd = set(table1.Closest_transcribed_gene).union(set(table2.Closest_transcribed_gene))"
     ],
     "language": "python",
     "metadata": {},
     "outputs": [],
     "prompt_number": "*"
    },
    {
     "cell_type": "code",
     "collapsed": false,
     "input": [
      "fin = open('../analysis-multi/genes.fpkm_tracking')\n",
      "fout = open('../analysis-multi/genes_near_bcd.fpkm_tracking', 'w')\n",
      "fbgn_to_name = {line.split()[0]: line.strip().split()[1] for line in open('../Reference/fbgns.txt')}\n",
      "fout.write(fin.readline())\n",
      "lines_out = 0\n",
      "for line in fin:\n",
      "    for gene in genes_near_bcd:\n",
      "        if fbgn_to_name.get(gene, \"NANANANANAN\") in line:\n",
      "            fout.write(line)\n",
      "            lines_out += 1\n",
      "            print gene, fbgn_to_name.get(gene, \"NANANANANANAN\")\n",
      "            break\n",
      "    if lines_out > 20:\n",
      "        break\n",
      "fout.close()\n",
      "print lines_out"
     ],
     "language": "python",
     "metadata": {},
     "outputs": [],
     "prompt_number": "*"
    },
    {
     "cell_type": "code",
     "collapsed": false,
     "input": [
      "fbgn_to_name.get(gene, \"NANANANANANAN\") in line"
     ],
     "language": "python",
     "metadata": {},
     "outputs": [
      {
       "output_type": "pyout",
       "prompt_number": 26,
       "text": [
        "False"
       ]
      }
     ],
     "prompt_number": 26
    },
    {
     "cell_type": "code",
     "collapsed": false,
     "input": [
      "run ../BayesMatch.py --set Bcd ../analysis-multi/genes_near_bcd.fpkm_tracking"
     ],
     "language": "python",
     "metadata": {},
     "outputs": [
      {
       "output_type": "stream",
       "stream": "stdout",
       "text": [
        "['Bcd']\n",
        "[('Bcd',)]\n",
        "------------------------------------------------------------"
       ]
      },
      {
       "output_type": "stream",
       "stream": "stderr",
       "text": [
        "Susan: ('Bcd',):  0%|                                           |ETA:  --:--:--\r",
        "Susan: ('Bcd',):  1%|                                            |ETA:  0:01:26\r"
       ]
      },
      {
       "output_type": "stream",
       "stream": "stderr",
       "text": [
        "Susan: ('Bcd',):  2%|                                            |ETA:  0:01:29\r",
        "Susan: ('Bcd',):  3%|#                                           |ETA:  0:01:29\r"
       ]
      },
      {
       "output_type": "stream",
       "stream": "stderr",
       "text": [
        "Susan: ('Bcd',):  3%|#                                           |ETA:  0:01:35\r",
        "Susan: ('Bcd',):  4%|##                                          |ETA:  0:01:27\r"
       ]
      },
      {
       "output_type": "stream",
       "stream": "stderr",
       "text": [
        "Susan: ('Bcd',):  5%|##                                          |ETA:  0:01:23\r",
        "Susan: ('Bcd',):  6%|##                                          |ETA:  0:01:22\r"
       ]
      },
      {
       "output_type": "stream",
       "stream": "stderr",
       "text": [
        "Susan: ('Bcd',):  7%|###                                         |ETA:  0:01:26\r",
        "Susan: ('Bcd',):  8%|###                                         |ETA:  0:01:26\r"
       ]
      },
      {
       "output_type": "stream",
       "stream": "stderr",
       "text": [
        "Susan: ('Bcd',):  9%|####                                        |ETA:  0:01:26\r",
        "Susan: ('Bcd',): 10%|####                                        |ETA:  0:01:23\r"
       ]
      },
      {
       "output_type": "stream",
       "stream": "stderr",
       "text": [
        "Susan: ('Bcd',): 11%|#####                                       |ETA:  0:01:21\r",
        "Susan: ('Bcd',): 12%|#####                                       |ETA:  0:01:20\r"
       ]
      },
      {
       "output_type": "stream",
       "stream": "stderr",
       "text": [
        "Susan: ('Bcd',): 13%|#####                                       |ETA:  0:01:19\r",
        "Susan: ('Bcd',): 14%|######                                      |ETA:  0:01:17\r"
       ]
      },
      {
       "output_type": "stream",
       "stream": "stderr",
       "text": [
        "Susan: ('Bcd',): 15%|######                                      |ETA:  0:01:17\r",
        "Susan: ('Bcd',): 16%|#######                                     |ETA:  0:01:15\r"
       ]
      },
      {
       "output_type": "stream",
       "stream": "stderr",
       "text": [
        "Susan: ('Bcd',): 17%|#######                                     |ETA:  0:01:13\r",
        "Susan: ('Bcd',): 18%|########                                    |ETA:  0:01:11\r"
       ]
      },
      {
       "output_type": "stream",
       "stream": "stderr",
       "text": [
        "Susan: ('Bcd',): 19%|########                                    |ETA:  0:01:10\r",
        "Susan: ('Bcd',): 20%|#########                                   |ETA:  0:01:09\r"
       ]
      },
      {
       "output_type": "stream",
       "stream": "stderr",
       "text": [
        "Susan: ('Bcd',): 21%|#########                                   |ETA:  0:01:08\r",
        "Susan: ('Bcd',): 22%|#########                                   |ETA:  0:01:06\r"
       ]
      },
      {
       "output_type": "stream",
       "stream": "stderr",
       "text": [
        "Susan: ('Bcd',): 23%|##########                                  |ETA:  0:01:05\r",
        "Susan: ('Bcd',): 24%|##########                                  |ETA:  0:01:04\r"
       ]
      },
      {
       "output_type": "stream",
       "stream": "stderr",
       "text": [
        "Susan: ('Bcd',): 25%|###########                                 |ETA:  0:01:04\r",
        "Susan: ('Bcd',): 26%|###########                                 |ETA:  0:01:03\r"
       ]
      },
      {
       "output_type": "stream",
       "stream": "stderr",
       "text": [
        "Susan: ('Bcd',): 27%|############                                |ETA:  0:01:03\r",
        "Susan: ('Bcd',): 28%|############                                |ETA:  0:01:02\r"
       ]
      },
      {
       "output_type": "stream",
       "stream": "stderr",
       "text": [
        "Susan: ('Bcd',): 29%|############                                |ETA:  0:01:02\r",
        "Susan: ('Bcd',): 30%|#############                               |ETA:  0:01:02\r"
       ]
      },
      {
       "output_type": "stream",
       "stream": "stderr",
       "text": [
        "Susan: ('Bcd',): 30%|#############                               |ETA:  0:01:01\r",
        "Susan: ('Bcd',): 31%|#############                               |ETA:  0:01:01\r"
       ]
      },
      {
       "output_type": "stream",
       "stream": "stderr",
       "text": [
        "Susan: ('Bcd',): 32%|##############                              |ETA:  0:01:00\r",
        "Susan: ('Bcd',): 33%|##############                              |ETA:  0:00:59\r"
       ]
      },
      {
       "output_type": "stream",
       "stream": "stderr",
       "text": [
        "Susan: ('Bcd',): 34%|###############                             |ETA:  0:00:58\r",
        "Susan: ('Bcd',): 35%|###############                             |ETA:  0:00:57\r"
       ]
      },
      {
       "output_type": "stream",
       "stream": "stderr",
       "text": [
        "Susan: ('Bcd',): 36%|################                            |ETA:  0:00:57\r",
        "Susan: ('Bcd',): 37%|################                            |ETA:  0:00:56\r"
       ]
      },
      {
       "output_type": "stream",
       "stream": "stderr",
       "text": [
        "Susan: ('Bcd',): 38%|################                            |ETA:  0:00:55\r",
        "Susan: ('Bcd',): 39%|#################                           |ETA:  0:00:54\r"
       ]
      },
      {
       "output_type": "stream",
       "stream": "stderr",
       "text": [
        "Susan: ('Bcd',): 40%|#################                           |ETA:  0:00:53\r",
        "Susan: ('Bcd',): 41%|##################                          |ETA:  0:00:53\r"
       ]
      },
      {
       "output_type": "stream",
       "stream": "stderr",
       "text": [
        "Susan: ('Bcd',): 42%|##################                          |ETA:  0:00:52\r",
        "Susan: ('Bcd',): 43%|##################                          |ETA:  0:00:51\r"
       ]
      },
      {
       "output_type": "stream",
       "stream": "stderr",
       "text": [
        "Susan: ('Bcd',): 44%|###################                         |ETA:  0:00:49\r",
        "Susan: ('Bcd',): 45%|###################                         |ETA:  0:00:48\r"
       ]
      },
      {
       "output_type": "stream",
       "stream": "stderr",
       "text": [
        "Susan: ('Bcd',): 46%|####################                        |ETA:  0:00:47\r",
        "Susan: ('Bcd',): 47%|####################                        |ETA:  0:00:46\r"
       ]
      },
      {
       "output_type": "stream",
       "stream": "stderr",
       "text": [
        "Susan: ('Bcd',): 48%|#####################                       |ETA:  0:00:45\r",
        "Susan: ('Bcd',): 49%|#####################                       |ETA:  0:00:44\r"
       ]
      },
      {
       "output_type": "stream",
       "stream": "stderr",
       "text": [
        "Susan: ('Bcd',): 50%|######################                      |ETA:  0:00:43\r",
        "Susan: ('Bcd',): 51%|######################                      |ETA:  0:00:42\r"
       ]
      },
      {
       "output_type": "stream",
       "stream": "stderr",
       "text": [
        "Susan: ('Bcd',): 52%|######################                      |ETA:  0:00:41\r",
        "Susan: ('Bcd',): 53%|#######################                     |ETA:  0:00:40\r"
       ]
      },
      {
       "output_type": "stream",
       "stream": "stderr",
       "text": [
        "Susan: ('Bcd',): 54%|#######################                     |ETA:  0:00:39\r",
        "Susan: ('Bcd',): 54%|########################                    |ETA:  0:00:39\r"
       ]
      },
      {
       "output_type": "stream",
       "stream": "stderr",
       "text": [
        "Susan: ('Bcd',): 55%|########################                    |ETA:  0:00:38\r",
        "Susan: ('Bcd',): 56%|#########################                   |ETA:  0:00:37\r"
       ]
      },
      {
       "output_type": "stream",
       "stream": "stderr",
       "text": [
        "Susan: ('Bcd',): 57%|#########################                   |ETA:  0:00:36\r",
        "Susan: ('Bcd',): 58%|#########################                   |ETA:  0:00:36\r"
       ]
      },
      {
       "output_type": "stream",
       "stream": "stderr",
       "text": [
        "Susan: ('Bcd',): 59%|##########################                  |ETA:  0:00:35\r",
        "Susan: ('Bcd',): 60%|##########################                  |ETA:  0:00:35\r"
       ]
      },
      {
       "output_type": "stream",
       "stream": "stderr",
       "text": [
        "Susan: ('Bcd',): 61%|###########################                 |ETA:  0:00:34\r",
        "Susan: ('Bcd',): 62%|###########################                 |ETA:  0:00:33\r"
       ]
      },
      {
       "output_type": "stream",
       "stream": "stderr",
       "text": [
        "Susan: ('Bcd',): 63%|###########################                 |ETA:  0:00:32\r",
        "Susan: ('Bcd',): 64%|############################                |ETA:  0:00:31\r"
       ]
      },
      {
       "output_type": "stream",
       "stream": "stderr",
       "text": [
        "Susan: ('Bcd',): 65%|############################                |ETA:  0:00:30\r",
        "Susan: ('Bcd',): 66%|#############################               |ETA:  0:00:30\r"
       ]
      },
      {
       "output_type": "stream",
       "stream": "stderr",
       "text": [
        "Susan: ('Bcd',): 67%|#############################               |ETA:  0:00:29\r",
        "Susan: ('Bcd',): 68%|##############################              |ETA:  0:00:28\r"
       ]
      },
      {
       "output_type": "stream",
       "stream": "stderr",
       "text": [
        "Susan: ('Bcd',): 69%|##############################              |ETA:  0:00:27\r",
        "Susan: ('Bcd',): 70%|##############################              |ETA:  0:00:26\r"
       ]
      },
      {
       "output_type": "stream",
       "stream": "stderr",
       "text": [
        "Susan: ('Bcd',): 71%|###############################             |ETA:  0:00:25\r",
        "Susan: ('Bcd',): 72%|###############################             |ETA:  0:00:24\r"
       ]
      },
      {
       "output_type": "stream",
       "stream": "stderr",
       "text": [
        "Susan: ('Bcd',): 73%|################################            |ETA:  0:00:23\r",
        "Susan: ('Bcd',): 74%|################################            |ETA:  0:00:22\r"
       ]
      },
      {
       "output_type": "stream",
       "stream": "stderr",
       "text": [
        "Susan: ('Bcd',): 75%|#################################           |ETA:  0:00:21\r",
        "Susan: ('Bcd',): 76%|#################################           |ETA:  0:00:21\r"
       ]
      },
      {
       "output_type": "stream",
       "stream": "stderr",
       "text": [
        "Susan: ('Bcd',): 77%|#################################           |ETA:  0:00:20\r",
        "Susan: ('Bcd',): 78%|##################################          |ETA:  0:00:19\r"
       ]
      },
      {
       "output_type": "stream",
       "stream": "stderr",
       "text": [
        "Susan: ('Bcd',): 79%|##################################          |ETA:  0:00:18\r",
        "Susan: ('Bcd',): 80%|###################################         |ETA:  0:00:17\r"
       ]
      },
      {
       "output_type": "stream",
       "stream": "stderr",
       "text": [
        "Susan: ('Bcd',): 81%|###################################         |ETA:  0:00:16\r",
        "Susan: ('Bcd',): 82%|####################################        |ETA:  0:00:15\r"
       ]
      },
      {
       "output_type": "stream",
       "stream": "stderr",
       "text": [
        "Susan: ('Bcd',): 83%|####################################        |ETA:  0:00:14\r",
        "Susan: ('Bcd',): 84%|#####################################       |ETA:  0:00:13\r"
       ]
      },
      {
       "output_type": "stream",
       "stream": "stderr",
       "text": [
        "Susan: ('Bcd',): 85%|#####################################       |ETA:  0:00:13\r",
        "Susan: ('Bcd',): 86%|#####################################       |ETA:  0:00:12\r"
       ]
      },
      {
       "output_type": "stream",
       "stream": "stderr",
       "text": [
        "Susan: ('Bcd',): 87%|######################################      |ETA:  0:00:11\r",
        "Susan: ('Bcd',): 88%|######################################      |ETA:  0:00:10\r"
       ]
      },
      {
       "output_type": "stream",
       "stream": "stderr",
       "text": [
        "Susan: ('Bcd',): 88%|#######################################     |ETA:  0:00:09\r",
        "Susan: ('Bcd',): 89%|#######################################     |ETA:  0:00:08\r"
       ]
      },
      {
       "output_type": "stream",
       "stream": "stderr",
       "text": [
        "Susan: ('Bcd',): 90%|#######################################     |ETA:  0:00:08\r",
        "Susan: ('Bcd',): 91%|########################################    |ETA:  0:00:07\r"
       ]
      },
      {
       "output_type": "stream",
       "stream": "stderr",
       "text": [
        "Susan: ('Bcd',): 92%|########################################    |ETA:  0:00:06\r",
        "Susan: ('Bcd',): 93%|#########################################   |ETA:  0:00:05\r"
       ]
      },
      {
       "output_type": "stream",
       "stream": "stderr",
       "text": [
        "Susan: ('Bcd',): 94%|#########################################   |ETA:  0:00:04\r",
        "Susan: ('Bcd',): 95%|##########################################  |ETA:  0:00:03\r"
       ]
      },
      {
       "output_type": "stream",
       "stream": "stderr",
       "text": [
        "Susan: ('Bcd',): 96%|##########################################  |ETA:  0:00:02\r",
        "Susan: ('Bcd',): 97%|########################################### |ETA:  0:00:01\r"
       ]
      },
      {
       "output_type": "stream",
       "stream": "stderr",
       "text": [
        "Susan: ('Bcd',): 98%|########################################### |ETA:  0:00:01\r",
        "Susan: ('Bcd',): 99%|########################################### |ETA:  0:00:00\r"
       ]
      },
      {
       "output_type": "stream",
       "stream": "stdout",
       "text": [
        " \n",
        "('Bcd',) \n",
        "------------------------------------------------------------\n",
        "Found columns:  ['Bcd-AA_FPKM', 'Bcd-A_FPKM', 'Bcd-AP_FPKM', 'Bcd-P_FPKM', 'Bcd-PP_FPKM']\n",
        "Best hit in "
       ]
      },
      {
       "output_type": "stream",
       "stream": "stdout",
       "text": [
        " ../susan/by_cycle/cyc_14b.txt\n"
       ]
      },
      {
       "output_type": "stream",
       "stream": "stderr",
       "text": [
        "Susan: ('Bcd',):100%|############################################|Time: 0:01:27\r\n",
        "Time 0:  0%|                                                    |ETA:  --:--:--\r"
       ]
      },
      {
       "output_type": "stream",
       "stream": "stderr",
       "text": [
        "Time 0:  3%|#                                                    |ETA:  0:00:00\r",
        "Time 0:  6%|###                                                  |ETA:  0:00:00\r",
        "Time 0:  9%|#####                                                |ETA:  0:00:00\r",
        "Time 0: 12%|######                                               |ETA:  0:00:00\r",
        "Time 0: 16%|########                                             |ETA:  0:00:00\r",
        "Time 0: 19%|##########                                           |ETA:  0:00:00\r",
        "Time 0: 22%|###########                                          |ETA:  0:00:00\r",
        "Time 0: 25%|#############                                        |ETA:  0:00:00\r",
        "Time 0: 29%|###############                                      |ETA:  0:00:00\r",
        "Time 0: 32%|#################                                    |ETA:  0:00:00\r"
       ]
      },
      {
       "output_type": "stream",
       "stream": "stderr",
       "text": [
        "Time 0: 35%|##################                                   |ETA:  0:00:00\r",
        "Time 0: 38%|####################                                 |ETA:  0:00:00\r",
        "Time 0: 41%|######################                               |ETA:  0:00:00\r",
        "Time 0: 45%|#######################                              |ETA:  0:00:00\r",
        "Time 0: 48%|#########################                            |ETA:  0:00:00\r",
        "Time 0: 51%|###########################                          |ETA:  0:00:00\r",
        "Time 0: 54%|#############################                        |ETA:  0:00:00\r",
        "Time 0: 58%|##############################                       |ETA:  0:00:00\r",
        "Time 0: 61%|################################                     |ETA:  0:00:00\r",
        "Time 0: 64%|##################################                   |ETA:  0:00:00\r",
        "Time 0: 67%|###################################                  |ETA:  0:00:00\r",
        "Time 0: 70%|#####################################                |ETA:  0:00:00\r",
        "Time 0: 74%|#######################################              |ETA:  0:00:00\r",
        "Time 0: 77%|#########################################            |ETA:  0:00:00\r",
        "Time 0: 80%|##########################################           |ETA:  0:00:00\r",
        "Time 0: 83%|############################################         |ETA:  0:00:00\r"
       ]
      },
      {
       "output_type": "stream",
       "stream": "stdout",
       "text": [
        "Saving to:  /media/data/pacombs/Fall2012/IPythonNotebooks/figures/Sample_Bcd_T0.pdf\n",
        "In time slice"
       ]
      },
      {
       "output_type": "stream",
       "stream": "stdout",
       "text": [
        " 0\n",
        "Mode position [  4  95 399 249   0]\n",
        "Mean position [7.7115213592247684, 97.400428456169578, 382.08119059314549, 250.73738795369559, 124.74065882350882]\n"
       ]
      },
      {
       "output_type": "stream",
       "stream": "stderr",
       "text": [
        "Time 0: 87%|##############################################       |ETA:  0:00:00\r",
        "Time 0: 90%|###############################################      |ETA:  0:00:00\r",
        "Time 0: 93%|#################################################    |ETA:  0:00:00\r",
        "Time 0: 96%|###################################################  |ETA:  0:00:00\r",
        "Time 0:100%|#####################################################|Time: 0:00:00\r\n",
        "Time 1:  0%|                                                    |ETA:  --:--:--\r"
       ]
      },
      {
       "output_type": "stream",
       "stream": "stderr",
       "text": [
        "Time 1:  2%|#                                                    |ETA:  0:00:00\r",
        "Time 1:  4%|##                                                   |ETA:  0:00:00\r",
        "Time 1:  6%|###                                                  |ETA:  0:00:00\r",
        "Time 1:  8%|####                                                 |ETA:  0:00:00\r",
        "Time 1: 11%|#####                                                |ETA:  0:00:00\r",
        "Time 1: 13%|#######                                              |ETA:  0:00:00\r",
        "Time 1: 15%|########                                             |ETA:  0:00:00\r",
        "Time 1: 17%|#########                                            |ETA:  0:00:00\r"
       ]
      },
      {
       "output_type": "stream",
       "stream": "stderr",
       "text": [
        "Time 1: 20%|##########                                           |ETA:  0:00:00\r",
        "Time 1: 22%|###########                                          |ETA:  0:00:00\r",
        "Time 1: 24%|############                                         |ETA:  0:00:00\r",
        "Time 1: 26%|##############                                       |ETA:  0:00:00\r",
        "Time 1: 28%|###############                                      |ETA:  0:00:00\r",
        "Time 1: 31%|################                                     |ETA:  0:00:00\r",
        "Time 1: 33%|#################                                    |ETA:  0:00:00\r"
       ]
      },
      {
       "output_type": "stream",
       "stream": "stderr",
       "text": [
        "Time 1: 35%|##################                                   |ETA:  0:00:00\r",
        "Time 1: 37%|####################                                 |ETA:  0:00:00\r",
        "Time 1: 40%|#####################                                |ETA:  0:00:00\r",
        "Time 1: 42%|######################                               |ETA:  0:00:00\r",
        "Time 1: 44%|#######################                              |ETA:  0:00:00\r",
        "Time 1: 46%|########################                             |ETA:  0:00:00\r",
        "Time 1: 48%|#########################                            |ETA:  0:00:00\r",
        "Time 1: 51%|###########################                          |ETA:  0:00:00\r",
        "Time 1: 53%|############################                         |ETA:  0:00:00\r",
        "Time 1: 55%|#############################                        |ETA:  0:00:00\r"
       ]
      },
      {
       "output_type": "stream",
       "stream": "stderr",
       "text": [
        "Time 1: 57%|##############################                       |ETA:  0:00:00\r",
        "Time 1: 60%|###############################                      |ETA:  0:00:00\r",
        "Time 1: 62%|################################                     |ETA:  0:00:00\r",
        "Time 1: 64%|##################################                   |ETA:  0:00:00\r",
        "Time 1: 66%|###################################                  |ETA:  0:00:00\r",
        "Time 1: 68%|####################################                 |ETA:  0:00:00\r",
        "Time 1: 71%|#####################################                |ETA:  0:00:00\r",
        "Time 1: 73%|######################################               |ETA:  0:00:00\r"
       ]
      },
      {
       "output_type": "stream",
       "stream": "stderr",
       "text": [
        "Time 1: 75%|########################################             |ETA:  0:00:00\r",
        "Time 1: 77%|#########################################            |ETA:  0:00:00\r",
        "Time 1: 80%|##########################################           |ETA:  0:00:00\r",
        "Time 1: 82%|###########################################          |ETA:  0:00:00\r",
        "Time 1: 84%|############################################         |ETA:  0:00:00\r",
        "Time 1: 86%|#############################################        |ETA:  0:00:00\r",
        "Time 1: 88%|###############################################      |ETA:  0:00:00\r",
        "Time 1: 91%|################################################     |ETA:  0:00:00\r"
       ]
      },
      {
       "output_type": "stream",
       "stream": "stdout",
       "text": [
        "Saving to:  /media/data/pacombs/Fall2012/IPythonNotebooks/figures/Sample_Bcd_T1.pdf\n",
        "In time slice"
       ]
      },
      {
       "output_type": "stream",
       "stream": "stdout",
       "text": [
        " 1\n",
        "Mode position [ 14  98 399   0 399]\n",
        "Mean position [12.515564469587977, 91.988611336940394, 267.26381173881299, 0.39557295602935588, 384.53332168129549]\n"
       ]
      },
      {
       "output_type": "stream",
       "stream": "stderr",
       "text": [
        "Time 1: 93%|#################################################    |ETA:  0:00:00\r",
        "Time 1: 95%|##################################################   |ETA:  0:00:00\r",
        "Time 1: 97%|###################################################  |ETA:  0:00:00\r",
        "Time 1:100%|#####################################################|Time: 0:00:00\r\n",
        "Time 2:  0%|                                                    |ETA:  --:--:--\r"
       ]
      },
      {
       "output_type": "stream",
       "stream": "stderr",
       "text": [
        "Time 2:  3%|#                                                    |ETA:  0:00:00\r",
        "Time 2:  6%|###                                                  |ETA:  0:00:00\r",
        "Time 2:  9%|####                                                 |ETA:  0:00:00\r",
        "Time 2: 12%|######                                               |ETA:  0:00:00\r",
        "Time 2: 15%|########                                             |ETA:  0:00:00\r",
        "Time 2: 18%|#########                                            |ETA:  0:00:00\r",
        "Time 2: 21%|###########                                          |ETA:  0:00:00\r",
        "Time 2: 24%|############                                         |ETA:  0:00:00\r"
       ]
      },
      {
       "output_type": "stream",
       "stream": "stderr",
       "text": [
        "Time 2: 27%|##############                                       |ETA:  0:00:00\r",
        "Time 2: 30%|################                                     |ETA:  0:00:00\r",
        "Time 2: 33%|#################                                    |ETA:  0:00:00\r",
        "Time 2: 36%|###################                                  |ETA:  0:00:00\r",
        "Time 2: 39%|####################                                 |ETA:  0:00:00\r",
        "Time 2: 42%|######################                               |ETA:  0:00:00\r",
        "Time 2: 45%|########################                             |ETA:  0:00:00\r",
        "Time 2: 48%|#########################                            |ETA:  0:00:00\r"
       ]
      },
      {
       "output_type": "stream",
       "stream": "stderr",
       "text": [
        "Time 2: 51%|###########################                          |ETA:  0:00:00\r",
        "Time 2: 54%|############################                         |ETA:  0:00:00\r",
        "Time 2: 57%|##############################                       |ETA:  0:00:00\r",
        "Time 2: 60%|################################                     |ETA:  0:00:00\r",
        "Time 2: 63%|#################################                    |ETA:  0:00:00\r",
        "Time 2: 66%|###################################                  |ETA:  0:00:00\r",
        "Time 2: 69%|####################################                 |ETA:  0:00:00\r",
        "Time 2: 72%|######################################               |ETA:  0:00:00\r",
        "Time 2: 75%|########################################             |ETA:  0:00:00\r",
        "Time 2: 78%|#########################################            |ETA:  0:00:00\r"
       ]
      },
      {
       "output_type": "stream",
       "stream": "stderr",
       "text": [
        "Time 2: 81%|###########################################          |ETA:  0:00:00\r",
        "Time 2: 84%|############################################         |ETA:  0:00:00\r",
        "Time 2: 87%|##############################################       |ETA:  0:00:00\r",
        "Time 2: 90%|################################################     |ETA:  0:00:00\r",
        "Time 2: 93%|#################################################    |ETA:  0:00:00\r",
        "Time 2: 96%|###################################################  |ETA:  0:00:00\r"
       ]
      },
      {
       "output_type": "stream",
       "stream": "stdout",
       "text": [
        "Saving to:  /media/data/pacombs/Fall2012/IPythonNotebooks/figures/Sample_Bcd_T2.pdf\n",
        "In time slice"
       ]
      },
      {
       "output_type": "stream",
       "stream": "stdout",
       "text": [
        " 2\n",
        "Mode position [ 11  97 399   0 399]\n",
        "Mean position [9.2196751603394116, 99.15627505316894, 397.57577203173236, 0.080178056711709425, 390.95691356290024]\n"
       ]
      },
      {
       "output_type": "stream",
       "stream": "stderr",
       "text": [
        "Time 2:100%|#####################################################|Time: 0:00:00\r\n",
        "Time 3:  0%|                                                    |ETA:  --:--:--\r"
       ]
      },
      {
       "output_type": "stream",
       "stream": "stderr",
       "text": [
        "Time 3:  1%|                                                     |ETA:  0:00:01\r",
        "Time 3:  2%|#                                                    |ETA:  0:00:00\r",
        "Time 3:  3%|#                                                    |ETA:  0:00:00\r",
        "Time 3:  4%|##                                                   |ETA:  0:00:00\r",
        "Time 3:  5%|###                                                  |ETA:  0:00:00\r",
        "Time 3:  6%|###                                                  |ETA:  0:00:00\r",
        "Time 3:  8%|####                                                 |ETA:  0:00:00\r",
        "Time 3:  9%|####                                                 |ETA:  0:00:00\r",
        "Time 3: 10%|#####                                                |ETA:  0:00:00\r",
        "Time 3: 11%|######                                               |ETA:  0:00:00\r",
        "Time 3: 12%|######                                               |ETA:  0:00:00\r",
        "Time 3: 13%|#######                                              |ETA:  0:00:00\r",
        "Time 3: 14%|#######                                              |ETA:  0:00:00\r",
        "Time 3: 16%|########                                             |ETA:  0:00:00\r"
       ]
      },
      {
       "output_type": "stream",
       "stream": "stderr",
       "text": [
        "Time 3: 17%|#########                                            |ETA:  0:00:00\r",
        "Time 3: 18%|#########                                            |ETA:  0:00:00\r",
        "Time 3: 19%|##########                                           |ETA:  0:00:00\r",
        "Time 3: 20%|##########                                           |ETA:  0:00:00\r",
        "Time 3: 21%|###########                                          |ETA:  0:00:00\r",
        "Time 3: 22%|############                                         |ETA:  0:00:00\r",
        "Time 3: 24%|############                                         |ETA:  0:00:00\r",
        "Time 3: 25%|#############                                        |ETA:  0:00:00\r",
        "Time 3: 26%|##############                                       |ETA:  0:00:00\r",
        "Time 3: 27%|##############                                       |ETA:  0:00:00\r",
        "Time 3: 28%|###############                                      |ETA:  0:00:00\r",
        "Time 3: 29%|###############                                      |ETA:  0:00:00\r",
        "Time 3: 31%|################                                     |ETA:  0:00:00\r",
        "Time 3: 32%|#################                                    |ETA:  0:00:00\r"
       ]
      },
      {
       "output_type": "stream",
       "stream": "stderr",
       "text": [
        "Time 3: 33%|#################                                    |ETA:  0:00:00\r",
        "Time 3: 34%|##################                                   |ETA:  0:00:00\r",
        "Time 3: 35%|##################                                   |ETA:  0:00:00\r",
        "Time 3: 36%|###################                                  |ETA:  0:00:00\r",
        "Time 3: 37%|####################                                 |ETA:  0:00:00\r",
        "Time 3: 39%|####################                                 |ETA:  0:00:00\r",
        "Time 3: 40%|#####################                                |ETA:  0:00:00\r",
        "Time 3: 41%|#####################                                |ETA:  0:00:00\r",
        "Time 3: 42%|######################                               |ETA:  0:00:00\r",
        "Time 3: 43%|#######################                              |ETA:  0:00:00\r",
        "Time 3: 44%|#######################                              |ETA:  0:00:00\r",
        "Time 3: 45%|########################                             |ETA:  0:00:00\r",
        "Time 3: 47%|########################                             |ETA:  0:00:00\r",
        "Time 3: 48%|#########################                            |ETA:  0:00:00\r",
        "Time 3: 49%|##########################                           |ETA:  0:00:00\r",
        "Time 3: 50%|##########################                           |ETA:  0:00:00\r",
        "Time 3: 51%|###########################                          |ETA:  0:00:00\r"
       ]
      },
      {
       "output_type": "stream",
       "stream": "stderr",
       "text": [
        "Time 3: 52%|############################                         |ETA:  0:00:00\r",
        "Time 3: 54%|############################                         |ETA:  0:00:00\r",
        "Time 3: 55%|#############################                        |ETA:  0:00:00\r",
        "Time 3: 56%|#############################                        |ETA:  0:00:00\r",
        "Time 3: 57%|##############################                       |ETA:  0:00:00\r",
        "Time 3: 58%|###############################                      |ETA:  0:00:00\r",
        "Time 3: 59%|###############################                      |ETA:  0:00:00\r",
        "Time 3: 60%|################################                     |ETA:  0:00:00\r",
        "Time 3: 62%|################################                     |ETA:  0:00:00\r",
        "Time 3: 63%|#################################                    |ETA:  0:00:00\r",
        "Time 3: 64%|##################################                   |ETA:  0:00:00\r",
        "Time 3: 65%|##################################                   |ETA:  0:00:00\r",
        "Time 3: 66%|###################################                  |ETA:  0:00:00\r",
        "Time 3: 67%|###################################                  |ETA:  0:00:00\r"
       ]
      },
      {
       "output_type": "stream",
       "stream": "stderr",
       "text": [
        "Time 3: 68%|####################################                 |ETA:  0:00:00\r",
        "Time 3: 70%|#####################################                |ETA:  0:00:00\r",
        "Time 3: 71%|#####################################                |ETA:  0:00:00\r",
        "Time 3: 72%|######################################               |ETA:  0:00:00\r",
        "Time 3: 73%|######################################               |ETA:  0:00:00\r",
        "Time 3: 74%|#######################################              |ETA:  0:00:00\r",
        "Time 3: 75%|########################################             |ETA:  0:00:00\r",
        "Time 3: 77%|########################################             |ETA:  0:00:00\r",
        "Time 3: 78%|#########################################            |ETA:  0:00:00\r",
        "Time 3: 79%|##########################################           |ETA:  0:00:00\r",
        "Time 3: 80%|##########################################           |ETA:  0:00:00\r",
        "Time 3: 81%|###########################################          |ETA:  0:00:00\r",
        "Time 3: 82%|###########################################          |ETA:  0:00:00\r"
       ]
      },
      {
       "output_type": "stream",
       "stream": "stderr",
       "text": [
        "Time 3: 83%|############################################         |ETA:  0:00:00\r",
        "Time 3: 85%|#############################################        |ETA:  0:00:00\r",
        "Time 3: 86%|#############################################        |ETA:  0:00:00\r",
        "Time 3: 87%|##############################################       |ETA:  0:00:00\r",
        "Time 3: 88%|##############################################       |ETA:  0:00:00\r",
        "Time 3: 89%|###############################################      |ETA:  0:00:00\r",
        "Time 3: 90%|################################################     |ETA:  0:00:00\r",
        "Time 3: 91%|################################################     |ETA:  0:00:00\r",
        "Time 3: 93%|#################################################    |ETA:  0:00:00\r",
        "Time 3: 94%|#################################################    |ETA:  0:00:00\r",
        "Time 3: 95%|##################################################   |ETA:  0:00:00\r"
       ]
      },
      {
       "output_type": "stream",
       "stream": "stdout",
       "text": [
        "Saving to:  /media/data/pacombs/Fall2012/IPythonNotebooks/figures/Sample_Bcd_T3.pdf\n",
        "In time slice"
       ]
      },
      {
       "output_type": "stream",
       "stream": "stdout",
       "text": [
        " 3\n",
        "Mode position [  0  25   0   0 399]\n",
        "Mean position [0.86903885992978791, 23.848034366168765, 19.756310622778852, 0.82652072201856652, 336.34984984414245]\n"
       ]
      },
      {
       "output_type": "stream",
       "stream": "stderr",
       "text": [
        "Time 3: 96%|###################################################  |ETA:  0:00:00\r",
        "Time 3: 97%|###################################################  |ETA:  0:00:00\r",
        "Time 3: 98%|#################################################### |ETA:  0:00:00\r",
        "Time 3:100%|#####################################################|Time: 0:00:00\r\n",
        "Time 4:  0%|                                                    |ETA:  --:--:--\r"
       ]
      },
      {
       "output_type": "stream",
       "stream": "stderr",
       "text": [
        "Time 4:  1%|                                                     |ETA:  0:00:00\r",
        "Time 4:  2%|#                                                    |ETA:  0:00:00\r",
        "Time 4:  3%|#                                                    |ETA:  0:00:00\r",
        "Time 4:  4%|##                                                   |ETA:  0:00:00\r",
        "Time 4:  5%|###                                                  |ETA:  0:00:00\r",
        "Time 4:  6%|###                                                  |ETA:  0:00:00\r",
        "Time 4:  8%|####                                                 |ETA:  0:00:00\r",
        "Time 4:  9%|####                                                 |ETA:  0:00:00\r",
        "Time 4: 10%|#####                                                |ETA:  0:00:00\r",
        "Time 4: 11%|######                                               |ETA:  0:00:00\r",
        "Time 4: 12%|######                                               |ETA:  0:00:00\r",
        "Time 4: 13%|#######                                              |ETA:  0:00:00\r"
       ]
      },
      {
       "output_type": "stream",
       "stream": "stderr",
       "text": [
        "Time 4: 15%|########                                             |ETA:  0:00:00\r",
        "Time 4: 16%|########                                             |ETA:  0:00:00\r",
        "Time 4: 17%|#########                                            |ETA:  0:00:00\r",
        "Time 4: 18%|#########                                            |ETA:  0:00:00\r",
        "Time 4: 19%|##########                                           |ETA:  0:00:00\r",
        "Time 4: 20%|###########                                          |ETA:  0:00:00\r",
        "Time 4: 22%|###########                                          |ETA:  0:00:00\r",
        "Time 4: 23%|############                                         |ETA:  0:00:00\r",
        "Time 4: 24%|############                                         |ETA:  0:00:00\r",
        "Time 4: 25%|#############                                        |ETA:  0:00:00\r",
        "Time 4: 26%|##############                                       |ETA:  0:00:00\r"
       ]
      },
      {
       "output_type": "stream",
       "stream": "stderr",
       "text": [
        "Time 4: 27%|##############                                       |ETA:  0:00:00\r",
        "Time 4: 29%|###############                                      |ETA:  0:00:00\r",
        "Time 4: 30%|################                                     |ETA:  0:00:00\r",
        "Time 4: 31%|################                                     |ETA:  0:00:00\r",
        "Time 4: 32%|#################                                    |ETA:  0:00:00\r",
        "Time 4: 33%|#################                                    |ETA:  0:00:00\r",
        "Time 4: 34%|##################                                   |ETA:  0:00:00\r",
        "Time 4: 36%|###################                                  |ETA:  0:00:00\r",
        "Time 4: 37%|###################                                  |ETA:  0:00:00\r",
        "Time 4: 38%|####################                                 |ETA:  0:00:00\r",
        "Time 4: 39%|####################                                 |ETA:  0:00:00\r",
        "Time 4: 40%|#####################                                |ETA:  0:00:00\r",
        "Time 4: 41%|######################                               |ETA:  0:00:00\r",
        "Time 4: 43%|######################                               |ETA:  0:00:00\r"
       ]
      },
      {
       "output_type": "stream",
       "stream": "stderr",
       "text": [
        "Time 4: 44%|#######################                              |ETA:  0:00:00\r",
        "Time 4: 45%|########################                             |ETA:  0:00:00\r",
        "Time 4: 46%|########################                             |ETA:  0:00:00\r",
        "Time 4: 47%|#########################                            |ETA:  0:00:00\r",
        "Time 4: 48%|#########################                            |ETA:  0:00:00\r",
        "Time 4: 50%|##########################                           |ETA:  0:00:00\r",
        "Time 4: 51%|###########################                          |ETA:  0:00:00\r",
        "Time 4: 52%|###########################                          |ETA:  0:00:00\r",
        "Time 4: 53%|############################                         |ETA:  0:00:00\r",
        "Time 4: 54%|############################                         |ETA:  0:00:00\r",
        "Time 4: 55%|#############################                        |ETA:  0:00:00\r",
        "Time 4: 56%|##############################                       |ETA:  0:00:00\r",
        "Time 4: 58%|##############################                       |ETA:  0:00:00\r",
        "Time 4: 59%|###############################                      |ETA:  0:00:00\r",
        "Time 4: 60%|################################                     |ETA:  0:00:00\r",
        "Time 4: 61%|################################                     |ETA:  0:00:00\r",
        "Time 4: 62%|#################################                    |ETA:  0:00:00\r"
       ]
      },
      {
       "output_type": "stream",
       "stream": "stderr",
       "text": [
        "Time 4: 63%|#################################                    |ETA:  0:00:00\r",
        "Time 4: 65%|##################################                   |ETA:  0:00:00\r",
        "Time 4: 66%|###################################                  |ETA:  0:00:00\r",
        "Time 4: 67%|###################################                  |ETA:  0:00:00\r",
        "Time 4: 68%|####################################                 |ETA:  0:00:00\r",
        "Time 4: 69%|####################################                 |ETA:  0:00:00\r",
        "Time 4: 70%|#####################################                |ETA:  0:00:00\r",
        "Time 4: 72%|######################################               |ETA:  0:00:00\r",
        "Time 4: 73%|######################################               |ETA:  0:00:00\r",
        "Time 4: 74%|#######################################              |ETA:  0:00:00\r",
        "Time 4: 75%|########################################             |ETA:  0:00:00\r",
        "Time 4: 76%|########################################             |ETA:  0:00:00\r",
        "Time 4: 77%|#########################################            |ETA:  0:00:00\r",
        "Time 4: 79%|#########################################            |ETA:  0:00:00\r",
        "Time 4: 80%|##########################################           |ETA:  0:00:00\r"
       ]
      },
      {
       "output_type": "stream",
       "stream": "stderr",
       "text": [
        "Time 4: 81%|###########################################          |ETA:  0:00:00\r",
        "Time 4: 82%|###########################################          |ETA:  0:00:00\r",
        "Time 4: 83%|############################################         |ETA:  0:00:00\r",
        "Time 4: 84%|############################################         |ETA:  0:00:00\r",
        "Time 4: 86%|#############################################        |ETA:  0:00:00\r",
        "Time 4: 87%|##############################################       |ETA:  0:00:00\r",
        "Time 4: 88%|##############################################       |ETA:  0:00:00\r",
        "Time 4: 89%|###############################################      |ETA:  0:00:00\r"
       ]
      },
      {
       "output_type": "stream",
       "stream": "stderr",
       "text": [
        "Time 4: 90%|################################################     |ETA:  0:00:00\r",
        "Time 4: 91%|################################################     |ETA:  0:00:00\r",
        "Time 4: 93%|#################################################    |ETA:  0:00:00\r",
        "Time 4: 94%|#################################################    |ETA:  0:00:00\r",
        "Time 4: 95%|##################################################   |ETA:  0:00:00\r",
        "Time 4: 96%|###################################################  |ETA:  0:00:00\r",
        "Time 4: 97%|###################################################  |ETA:  0:00:00\r",
        "Time 4: 98%|#################################################### |ETA:  0:00:00\r"
       ]
      },
      {
       "output_type": "stream",
       "stream": "stdout",
       "text": [
        "Saving to:  /media/data/pacombs/Fall2012/IPythonNotebooks/figures/Sample_Bcd_T4.pdf\n",
        "In time slice"
       ]
      },
      {
       "output_type": "stream",
       "stream": "stdout",
       "text": [
        " 4\n",
        "Mode position [  2  66   0   0 399]\n",
        "Mean position [4.1509103544622743, 67.307829715408033, 3.851842391017859, 0.69220772045483625, 394.51767955573462]\n"
       ]
      },
      {
       "output_type": "stream",
       "stream": "stderr",
       "text": [
        "Time 4:100%|#####################################################|Time: 0:00:00\r\n",
        "Time 5:  0%|                                                    |ETA:  --:--:--\r"
       ]
      },
      {
       "output_type": "stream",
       "stream": "stderr",
       "text": [
        "Time 5:  1%|                                                     |ETA:  0:00:01\r",
        "Time 5:  2%|#                                                    |ETA:  0:00:00\r",
        "Time 5:  3%|#                                                    |ETA:  0:00:00\r",
        "Time 5:  4%|##                                                   |ETA:  0:00:00\r",
        "Time 5:  5%|###                                                  |ETA:  0:00:00\r",
        "Time 5:  6%|###                                                  |ETA:  0:00:00\r",
        "Time 5:  8%|####                                                 |ETA:  0:00:00\r",
        "Time 5:  9%|####                                                 |ETA:  0:00:00\r",
        "Time 5: 10%|#####                                                |ETA:  0:00:00\r"
       ]
      },
      {
       "output_type": "stream",
       "stream": "stderr",
       "text": [
        "Time 5: 11%|######                                               |ETA:  0:00:00\r",
        "Time 5: 12%|######                                               |ETA:  0:00:00\r",
        "Time 5: 13%|#######                                              |ETA:  0:00:00\r",
        "Time 5: 15%|########                                             |ETA:  0:00:00\r",
        "Time 5: 16%|########                                             |ETA:  0:00:00\r",
        "Time 5: 17%|#########                                            |ETA:  0:00:00\r",
        "Time 5: 18%|#########                                            |ETA:  0:00:00\r"
       ]
      },
      {
       "output_type": "stream",
       "stream": "stderr",
       "text": [
        "Time 5: 19%|##########                                           |ETA:  0:00:00\r",
        "Time 5: 20%|###########                                          |ETA:  0:00:00\r",
        "Time 5: 22%|###########                                          |ETA:  0:00:00\r",
        "Time 5: 23%|############                                         |ETA:  0:00:00\r",
        "Time 5: 24%|############                                         |ETA:  0:00:00\r",
        "Time 5: 25%|#############                                        |ETA:  0:00:00\r",
        "Time 5: 26%|##############                                       |ETA:  0:00:00\r",
        "Time 5: 27%|##############                                       |ETA:  0:00:00\r",
        "Time 5: 29%|###############                                      |ETA:  0:00:00\r"
       ]
      },
      {
       "output_type": "stream",
       "stream": "stderr",
       "text": [
        "Time 5: 30%|################                                     |ETA:  0:00:00\r",
        "Time 5: 31%|################                                     |ETA:  0:00:00\r",
        "Time 5: 32%|#################                                    |ETA:  0:00:00\r",
        "Time 5: 33%|#################                                    |ETA:  0:00:00\r",
        "Time 5: 34%|##################                                   |ETA:  0:00:00\r",
        "Time 5: 36%|###################                                  |ETA:  0:00:00\r",
        "Time 5: 37%|###################                                  |ETA:  0:00:00\r",
        "Time 5: 38%|####################                                 |ETA:  0:00:00\r",
        "Time 5: 39%|####################                                 |ETA:  0:00:00\r",
        "Time 5: 40%|#####################                                |ETA:  0:00:00\r",
        "Time 5: 41%|######################                               |ETA:  0:00:00\r",
        "Time 5: 43%|######################                               |ETA:  0:00:00\r",
        "Time 5: 44%|#######################                              |ETA:  0:00:00\r",
        "Time 5: 45%|########################                             |ETA:  0:00:00\r",
        "Time 5: 46%|########################                             |ETA:  0:00:00\r",
        "Time 5: 47%|#########################                            |ETA:  0:00:00\r"
       ]
      },
      {
       "output_type": "stream",
       "stream": "stderr",
       "text": [
        "Time 5: 48%|#########################                            |ETA:  0:00:00\r",
        "Time 5: 50%|##########################                           |ETA:  0:00:00\r",
        "Time 5: 51%|###########################                          |ETA:  0:00:00\r",
        "Time 5: 52%|###########################                          |ETA:  0:00:00\r",
        "Time 5: 53%|############################                         |ETA:  0:00:00\r",
        "Time 5: 54%|############################                         |ETA:  0:00:00\r",
        "Time 5: 55%|#############################                        |ETA:  0:00:00\r",
        "Time 5: 56%|##############################                       |ETA:  0:00:00\r",
        "Time 5: 58%|##############################                       |ETA:  0:00:00\r",
        "Time 5: 59%|###############################                      |ETA:  0:00:00\r",
        "Time 5: 60%|################################                     |ETA:  0:00:00\r",
        "Time 5: 61%|################################                     |ETA:  0:00:00\r",
        "Time 5: 62%|#################################                    |ETA:  0:00:00\r",
        "Time 5: 63%|#################################                    |ETA:  0:00:00\r",
        "Time 5: 65%|##################################                   |ETA:  0:00:00\r"
       ]
      },
      {
       "output_type": "stream",
       "stream": "stderr",
       "text": [
        "Time 5: 66%|###################################                  |ETA:  0:00:00\r",
        "Time 5: 67%|###################################                  |ETA:  0:00:00\r",
        "Time 5: 68%|####################################                 |ETA:  0:00:00\r",
        "Time 5: 69%|####################################                 |ETA:  0:00:00\r",
        "Time 5: 70%|#####################################                |ETA:  0:00:00\r",
        "Time 5: 72%|######################################               |ETA:  0:00:00\r",
        "Time 5: 73%|######################################               |ETA:  0:00:00\r",
        "Time 5: 74%|#######################################              |ETA:  0:00:00\r",
        "Time 5: 75%|########################################             |ETA:  0:00:00\r",
        "Time 5: 76%|########################################             |ETA:  0:00:00\r",
        "Time 5: 77%|#########################################            |ETA:  0:00:00\r",
        "Time 5: 79%|#########################################            |ETA:  0:00:00\r",
        "Time 5: 80%|##########################################           |ETA:  0:00:00\r",
        "Time 5: 81%|###########################################          |ETA:  0:00:00\r"
       ]
      },
      {
       "output_type": "stream",
       "stream": "stderr",
       "text": [
        "Time 5: 82%|###########################################          |ETA:  0:00:00\r",
        "Time 5: 83%|############################################         |ETA:  0:00:00\r",
        "Time 5: 84%|############################################         |ETA:  0:00:00\r",
        "Time 5: 86%|#############################################        |ETA:  0:00:00\r",
        "Time 5: 87%|##############################################       |ETA:  0:00:00\r",
        "Time 5: 88%|##############################################       |ETA:  0:00:00\r",
        "Time 5: 89%|###############################################      |ETA:  0:00:00\r",
        "Time 5: 90%|################################################     |ETA:  0:00:00\r",
        "Time 5: 91%|################################################     |ETA:  0:00:00\r"
       ]
      },
      {
       "output_type": "stream",
       "stream": "stdout",
       "text": [
        "Saving to:  /media/data/pacombs/Fall2012/IPythonNotebooks/figures/Sample_Bcd_T5.pdf\n",
        "In time slice"
       ]
      },
      {
       "output_type": "stream",
       "stream": "stdout",
       "text": [
        " 5\n",
        "Mode position [  0  23 399   0 399]\n",
        "Mean position [0.16365217846058774, 23.227704704385832, 258.08536594400806, 0.6596242840938028, 393.08749012966223]\n"
       ]
      },
      {
       "output_type": "stream",
       "stream": "stderr",
       "text": [
        "Time 5: 93%|#################################################    |ETA:  0:00:00\r",
        "Time 5: 94%|#################################################    |ETA:  0:00:00\r",
        "Time 5: 95%|##################################################   |ETA:  0:00:00\r",
        "Time 5: 96%|###################################################  |ETA:  0:00:00\r",
        "Time 5: 97%|###################################################  |ETA:  0:00:00\r",
        "Time 5: 98%|#################################################### |ETA:  0:00:00\r",
        "Time 5:100%|#####################################################|Time: 0:00:00\r\n"
       ]
      },
      {
       "output_type": "display_data",
       "png": "[encoded data removed]"
      },
      {
       "output_type": "display_data",
       "png": "[encoded data removed]"
      },
      {
       "output_type": "display_data",
       "png": "[encoded data removed]"
      },
      {
       "output_type": "display_data",
       "png": "[encoded data removed]"
      },
      {
       "output_type": "display_data",
       "png": "[encoded data removed]"
      },
      {
       "output_type": "display_data",
       "png": "[encoded data removed]"
      },
      {
       "output_type": "display_data",
       "png": "[encoded data removed]"
      }
     ],
     "prompt_number": 22
    },
    {
     "cell_type": "markdown",
     "metadata": {},
     "source": [
      "Futzing with plotting\n",
      "---------------------\n",
      "\n",
      "\n",
      "Thesis committee felt like just the peaks was confusing, so here's where I experimented to add the bars indicating positions"
     ]
    },
    {
     "cell_type": "code",
     "collapsed": false,
     "input": [
      "n_pos, n_samples = shape(priors)\n",
      "mpl.cm.__getattribute__('jet')\n",
      "print FPKM_cols"
     ],
     "language": "python",
     "metadata": {},
     "outputs": []
    },
    {
     "cell_type": "code",
     "collapsed": false,
     "input": [
      "args.colormap = 'gist_rainbow'\n",
      "my_cm = mpl.cm.__getattribute__(args.colormap)\n",
      "plots = []\n",
      "for i in range(n_samples):\n",
      "    plots.extend(mpl.plot(priors[:,i], label=FPKM_cols[i].replace('_FPKM', ''), color = my_cm(i * 256 / (n_samples+1))))\n",
      "ax = mpl.gca()\n",
      "\n",
      "Y = priors.max()\n",
      "dY = 0.25 * Y\n",
      "Y += dY\n",
      "ests = [sum(np.arange(n_pos) * priors[:,i]) for i in range(6)]\n",
      "for plot, x in zip(plots, ests):\n",
      "    print \"Rectangle at\", (x, Y), (60, dY)\n",
      "    mpl.vlines(x, plot.get_data()[1][x], Y+dY, edgecolor=plot.get_color(), linestyles='dotted')\n",
      "    ax.add_artist(mpl.Rectangle((x, Y), 60, dY, facecolor=plot.get_color(), alpha=0.7))\n",
      "    #Y += dY\n",
      "\n",
      "mpl.title(\"Slice Position estimates\")\n",
      "mpl.xlabel(\"A/P position ($\\\\mu$m)\")\n",
      "mpl.ylabel(\"P(start @ $x\\\\pm1\\\\mu$m)\")\n",
      "box = ax.get_position()\n",
      "ax.set_position([box.x0, box.y0, box.width * 0.8, box.height])\n",
      "\n",
      "# Put a legend to the right of the current axis\n",
      "ax.legend(loc='center left', bbox_to_anchor=(1, 0.5))\n",
      "\n",
      "mpl.show()"
     ],
     "language": "python",
     "metadata": {},
     "outputs": []
    },
    {
     "cell_type": "code",
     "collapsed": false,
     "input": [
      "cm.jet(0)"
     ],
     "language": "python",
     "metadata": {},
     "outputs": []
    },
    {
     "cell_type": "code",
     "collapsed": false,
     "input": [
      "x = \"('A', 'P')\"\n",
      "print x.translate(None,' \\'(),\"')"
     ],
     "language": "python",
     "metadata": {},
     "outputs": []
    },
    {
     "cell_type": "markdown",
     "metadata": {},
     "source": [
      "Gold Standards\n",
      "--------------\n",
      "\n",
      "Thesis committee felt like I should feed the original data back in through itself, \n",
      "so I know exactly how well I can do. The concern was that the peak positions were \n",
      "too broad, and I had made a claim that at certain locations, it was simply harder to\n",
      "know.  I should take the initial data (both the FPKMs from Susan's set, and the BDTNP \n",
      "data), put it together in a way that it should match things very precisely, then see\n",
      "how well it actually does.  I'm less interested in how quickly it converges to the right \n",
      "time point, although if it doesn't converge pretty quickly, then there's a problem. \n",
      "\n"
     ]
    },
    {
     "cell_type": "code",
     "collapsed": false,
     "input": [
      "import pandas as pd\n",
      "import PointClouds as pc"
     ],
     "language": "python",
     "metadata": {},
     "outputs": []
    },
    {
     "cell_type": "code",
     "collapsed": false,
     "input": [
      "endswith_fpkm = lambda x: x.endswith('FPKM')"
     ],
     "language": "python",
     "metadata": {},
     "outputs": []
    },
    {
     "cell_type": "code",
     "collapsed": false,
     "input": [
      "standard_posns = array([30,90,150,210,270,330])"
     ],
     "language": "python",
     "metadata": {},
     "outputs": []
    },
    {
     "cell_type": "code",
     "collapsed": false,
     "input": [
      "shape(slices)"
     ],
     "language": "python",
     "metadata": {},
     "outputs": []
    },
    {
     "cell_type": "code",
     "collapsed": false,
     "input": [
      "sel_slices = pd.DataFrame(slices[standard_posns, :, 4])"
     ],
     "language": "python",
     "metadata": {},
     "outputs": []
    },
    {
     "cell_type": "code",
     "collapsed": false,
     "input": [
      "pcr = pc.PointCloudReader(open('../D_mel_wt_atlas_r2.vpc'))"
     ],
     "language": "python",
     "metadata": {},
     "outputs": []
    },
    {
     "cell_type": "code",
     "collapsed": false,
     "input": [
      "sel_slices.index = ['Pos'+str(i)+'u_FPKM' for i in standard_posns]\n",
      "sel_slices.columns = list(pcr.get_gene_names())"
     ],
     "language": "python",
     "metadata": {},
     "outputs": []
    },
    {
     "cell_type": "code",
     "collapsed": false,
     "input": [
      "with_vals = sel_slices.transpose().dropna(how='any').select(lambda x: not x.endswith('P'))"
     ],
     "language": "python",
     "metadata": {},
     "outputs": []
    },
    {
     "cell_type": "code",
     "collapsed": false,
     "input": [
      "susan = pd.read_table('../susan/by_cycle/cyc_14b.txt', index_col = 0)\n"
     ],
     "language": "python",
     "metadata": {},
     "outputs": []
    },
    {
     "cell_type": "code",
     "collapsed": false,
     "input": [
      "with_vals = with_vals.select(lambda x: x in susan.index)\n",
      "susan = susan.select(lambda x: x in with_vals.index)"
     ],
     "language": "python",
     "metadata": {},
     "outputs": []
    },
    {
     "cell_type": "code",
     "collapsed": false,
     "input": [
      "mean_susan = np.mean(susan, axis=1)\n",
      "std_susan = np.std(susan, axis=1)"
     ],
     "language": "python",
     "metadata": {},
     "outputs": []
    },
    {
     "cell_type": "code",
     "collapsed": false,
     "input": [
      "ret = with_vals.copy()\n",
      "mean_slices = mean(with_vals, axis=1)\n",
      "for row in ret.index:\n",
      "    ret.ix[row] /= mean_slices.ix[row]\n",
      "#print mean(ret, axis=1)"
     ],
     "language": "python",
     "metadata": {},
     "outputs": []
    },
    {
     "cell_type": "code",
     "collapsed": false,
     "input": [
      "ret_vals = with_vals.copy()\n",
      "mean_vals = mean(ret_vals, axis=1)\n",
      "for row in with_vals.index:\n",
      "    ret_vals.ix[row] /= mean_vals.ix[row]\n",
      "for column in with_vals.columns:\n",
      "    ret_vals[column] *=  mean_susan\n",
      "    hi_name = column.replace('FPKM', 'conf_hi')\n",
      "    lo_name = column.replace('FPKM', 'conf_lo')\n",
      "    ret_vals[hi_name] = ret_vals[column] * (mean_susan + 2 * std_susan) / mean_susan\n",
      "    ret_vals[lo_name] = np.clip(ret_vals[column] * (mean_susan - 2* std_susan) / mean_susan, 0, np.Inf)"
     ],
     "language": "python",
     "metadata": {},
     "outputs": []
    },
    {
     "cell_type": "code",
     "collapsed": false,
     "input": [
      "print mean_susan['gt']\n",
      "mean(ret_vals.ix['gt'].select(lambda x: x.endswith('FPKM')))"
     ],
     "language": "python",
     "metadata": {},
     "outputs": []
    },
    {
     "cell_type": "code",
     "collapsed": false,
     "input": [
      "ret_vals.to_csv('../susan/FakeSlicesT4_cyc14b.expr', sep='\\t', index_label='gene_short_name')"
     ],
     "language": "python",
     "metadata": {},
     "outputs": []
    },
    {
     "cell_type": "code",
     "collapsed": false,
     "input": [
      "run ../BayesMatch.py --set Pos ../susan/FakeSlicesT4_cyc14b.expr"
     ],
     "language": "python",
     "metadata": {},
     "outputs": []
    },
    {
     "cell_type": "code",
     "collapsed": false,
     "input": [
      "gene = 'hb'\n",
      "probs = [prob(frame.ix[gene], cycle.ix[gene]) for cycle in cycles]\n",
      "print probs\n",
      "print probs[cycnames.index('../susan/by_cycle/cyc_14b.txt')]"
     ],
     "language": "python",
     "metadata": {},
     "outputs": []
    },
    {
     "cell_type": "code",
     "collapsed": false,
     "input": [
      "for cycle in cycles:\n",
      "    print cycle.ix[gene]\n",
      "    print '-'*60"
     ],
     "language": "python",
     "metadata": {},
     "outputs": []
    },
    {
     "cell_type": "code",
     "collapsed": false,
     "input": [
      "gt = frame.ix[gene]\n",
      "print gt.select(endswith_fpkm)\n",
      "\n",
      "print mean(gt.select(endswith_fpkm))"
     ],
     "language": "python",
     "metadata": {},
     "outputs": []
    },
    {
     "cell_type": "code",
     "collapsed": false,
     "input": [
      "with_vals.ix[gene]"
     ],
     "language": "python",
     "metadata": {},
     "outputs": []
    },
    {
     "cell_type": "code",
     "collapsed": false,
     "input": [
      "T4 = slice_frames[4].dropna(how='any')"
     ],
     "language": "python",
     "metadata": {},
     "outputs": []
    },
    {
     "cell_type": "code",
     "collapsed": false,
     "input": [
      "print frame.ix[gene].select(endswith_fpkm)"
     ],
     "language": "python",
     "metadata": {},
     "outputs": []
    },
    {
     "cell_type": "code",
     "collapsed": false,
     "input": [
      "\n",
      "print gene\n",
      "normed = (T4.ix[gene] / mean(T4.ix[gene]) * np.mean(best_cycle.ix[gene], axis=1))\n",
      "normed.plot()\n",
      "for val in frame.ix[gene].select(endswith_fpkm):\n",
      "    hlines(val, 0, 450)\n",
      "for col in FPKM_cols:\n",
      "    figure()\n",
      "    std = get_std(col, frame)\n",
      "    evidence = stats.zprob(-np.abs((normed - frame[col][gene])/(std + 1)))\n",
      "    evidence.plot()\n",
      "    title(col)"
     ],
     "language": "python",
     "metadata": {},
     "outputs": []
    },
    {
     "cell_type": "code",
     "collapsed": false,
     "input": [
      "arange(450)[array([[1,2,3],[3,4,5],[6,7,8]])]"
     ],
     "language": "python",
     "metadata": {},
     "outputs": []
    },
    {
     "cell_type": "code",
     "collapsed": false,
     "input": [
      "l = len(T4.ix[gene])\n",
      "l\n",
      "riffle = (vstack([arange(l)]*(1 + l//60)) % 60 + reshape(arange(0,l, 60), (l//60+1, 1))) % l"
     ],
     "language": "python",
     "metadata": {},
     "outputs": []
    },
    {
     "cell_type": "code",
     "collapsed": false,
     "input": [
      "riffle.max()"
     ],
     "language": "python",
     "metadata": {},
     "outputs": []
    },
    {
     "cell_type": "code",
     "collapsed": false,
     "input": [
      "for gene in T4.index:\n",
      "    rifres = mean(array(T4.ix[gene])[riffle], axis=0)\n",
      "    print gene, rifres.min(), mean(T4.ix[gene]), rifres.max()"
     ],
     "language": "python",
     "metadata": {},
     "outputs": []
    },
    {
     "cell_type": "code",
     "collapsed": false,
     "input": [
      "print mean(T4.ix[gene])"
     ],
     "language": "python",
     "metadata": {},
     "outputs": []
    },
    {
     "cell_type": "markdown",
     "metadata": {},
     "source": [
      "$e^{i \\pi} = -1$"
     ]
    },
    {
     "cell_type": "code",
     "collapsed": false,
     "input": [],
     "language": "python",
     "metadata": {},
     "outputs": []
    }
   ],
   "metadata": {}
  }
 ]
}