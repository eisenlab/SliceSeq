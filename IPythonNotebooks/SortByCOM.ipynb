{
 "metadata": {
  "name": "SortByCOM"
 },
 "nbformat": 3,
 "nbformat_minor": 0,
 "worksheets": [
  {
   "cells": [
    {
     "cell_type": "code",
     "collapsed": false,
     "input": [
      "import pandas as pd\n",
      "import numpy as np"
     ],
     "language": "python",
     "metadata": {},
     "outputs": []
    },
    {
     "cell_type": "code",
     "collapsed": false,
     "input": [
      "import matplotlib as mpl\n",
      "#print [(param, mpl.rcParams[param]) for param in mpl.rcParams if param.startswith('font.')]\n",
      "mpl.rcParams['pdf.fonttype'] = 42\n",
      "mpl.rcParams['font.sans-serif'] = ['Arial']"
     ],
     "language": "python",
     "metadata": {},
     "outputs": []
    },
    {
     "cell_type": "code",
     "collapsed": false,
     "input": [
      "table = pd.read_table('../analysis-multi/genes.fpkm_tracking', index_col=4)"
     ],
     "language": "python",
     "metadata": {},
     "outputs": []
    },
    {
     "cell_type": "code",
     "collapsed": false,
     "input": [
      "goodname = lambda x: (not str(x).startswith('CR')) and ( 'RNA' not in str(x))\n",
      "table = table.select(goodname)"
     ],
     "language": "python",
     "metadata": {},
     "outputs": []
    },
    {
     "cell_type": "code",
     "collapsed": false,
     "input": [
      "cas_fpkms = table.select(lambda x: x.endswith('FPKM') and not x.startswith('Bcd'), axis=1)\n",
      "cas_fpkms = cas_fpkms.reindex(columns=['AAA_FPKM', 'AA_FPKM', 'A_FPKM', 'P_FPKM', 'PP_FPKM', 'PPP_FPKM'])\n",
      "\n",
      "\n",
      "bcd_fpkms = table.select(lambda x: x.endswith('FPKM') and x.startswith('Bcd'), axis=1)\n",
      "bcd_fpkms = bcd_fpkms.reindex(columns=['Bcd-AA_FPKM', 'Bcd-A_FPKM', 'Bcd-AP_FPKM', 'Bcd-P_FPKM', 'Bcd-PP_FPKM'])\n"
     ],
     "language": "python",
     "metadata": {},
     "outputs": []
    },
    {
     "cell_type": "code",
     "collapsed": false,
     "input": [
      "cas_sort_pos = pd.Series([sum(fpkm * i for i, fpkm in enumerate(cas_fpkms.ix[gene])) / sum(cas_fpkms.ix[gene])\n",
      "            for gene in cas_fpkms.index])\n",
      "cas_sort_pos.index = cas_fpkms.index\n",
      "\n",
      "bcd_sort_pos = pd.Series([sum(fpkm * i for i, fpkm in enumerate(bcd_fpkms.ix[gene])) / sum(bcd_fpkms.ix[gene])\n",
      "            for gene in bcd_fpkms.index])\n",
      "bcd_sort_pos.index = bcd_fpkms.index"
     ],
     "language": "python",
     "metadata": {},
     "outputs": []
    },
    {
     "cell_type": "code",
     "collapsed": false,
     "input": [
      "cas_fpkms.insert(6, 'sort_col', cas_sort_pos)\n",
      "bcd_by_cas = bcd_fpkms.copy()\n",
      "bcd_by_cas.insert(5, 'sort_col', cas_sort_pos)\n",
      "bcd_fpkms.insert(5, 'sort_col', bcd_sort_pos)"
     ],
     "language": "python",
     "metadata": {},
     "outputs": []
    },
    {
     "cell_type": "code",
     "collapsed": false,
     "input": [
      "cas_sorted_fpkms = cas_fpkms.sort('sort_col', ascending=False)\n",
      "cas_fpkms = cas_fpkms.drop(labels = ['sort_col'], axis=1)\n",
      "\n",
      "bcd_sorted_fpkms = bcd_fpkms.sort('sort_col', ascending=False)\n",
      "bcd_fpkms = bcd_fpkms.drop(labels=['sort_col'], axis=1)\n",
      "\n",
      "bcd_by_cas_sorted = bcd_by_cas.sort('sort_col', ascending=False)\n",
      "#for gene in bcd_by_cas_sorted.index:\n",
      "#    bcd_by_cas_sorted.ix[gene]['sort_col'] = bcd_sorted_fpkms.ix[gene]['sort_col']"
     ],
     "language": "python",
     "metadata": {},
     "outputs": []
    },
    {
     "cell_type": "code",
     "collapsed": false,
     "input": [
      "cas_clean = cas_sorted_fpkms.dropna(axis=0, how='any')\n",
      "bcd_clean = bcd_sorted_fpkms.dropna(axis=0, how='any')\n",
      "bcd_by_cas_clean = bcd_by_cas_sorted.dropna(axis=0, how='any')"
     ],
     "language": "python",
     "metadata": {},
     "outputs": []
    },
    {
     "cell_type": "code",
     "collapsed": false,
     "input": [
      "lott_data = pd.read_table('../journal.pbio.1000590.s002.txt', index_col=0)\n",
      "mat_set = {gene for gene in lott_data.index if lott_data.CLASS[gene] == 'mat'}"
     ],
     "language": "python",
     "metadata": {},
     "outputs": []
    },
    {
     "cell_type": "code",
     "collapsed": false,
     "input": [
      "cas_clean = cas_sorted_fpkms.dropna(axis=0, how='any').select(lambda x: max(cas_fpkms.ix[x]) > 5)\n",
      "cas_clean_mat = cas_clean.select(lambda x: x in mat_set)\n",
      "cas_clean_nonmat = cas_clean.select(lambda x: x not in mat_set)\n",
      "\n",
      "bcd_clean = bcd_sorted_fpkms.dropna(axis=0, how='any').select(lambda x: max(bcd_fpkms.ix[x]) > 5)\n",
      "bcd_clean_mat = bcd_clean.select(lambda x: x in mat_set)\n",
      "bcd_clean_nonmat = bcd_clean.select(lambda x: x not in mat_set)\n",
      "\n",
      "bbc_clean = bcd_by_cas_sorted.dropna(axis=0, how='any').select(lambda x: max(bcd_fpkms.ix[x]) > 5)\n",
      "bbc_clean_mat = bbc_clean.select(lambda x: x in mat_set)\n",
      "bbc_clean_nonmat = bbc_clean.select(lambda x: x not in mat_set)\n",
      "\n"
     ],
     "language": "python",
     "metadata": {},
     "outputs": []
    },
    {
     "cell_type": "code",
     "collapsed": false,
     "input": [
      "def gene_heatmap(curr_set, ax = None, cbar = False, selrange = None, scaled = False, v_color = 'r', plot_sortline = False):\n",
      "    n_samples = (len(curr_set.columns) - 1)\n",
      "    if ax == None:\n",
      "        ax = axes()\n",
      "    if selrange is not None:\n",
      "        selector = (selrange[0] > curr_set.sort_col) + (curr_set.sort_col > selrange[1])\n",
      "    else:\n",
      "        selrange= [n_samples/2.0 - 1, n_samples/2.0]\n",
      "        selector = ones(len(curr_set.sort_col), dtype=np.bool)\n",
      "\n",
      "    data = curr_set.as_matrix()[selector,0:n_samples].T\n",
      "    if scaled:\n",
      "        m = array([np.max(data, axis=0)]*(len(curr_set.columns) - 1))\n",
      "        data /= m\n",
      "    else:\n",
      "        data = log10(data.clip(1,1000))\n",
      "\n",
      "    im = ax.pcolormesh(data, cmap=cmap)\n",
      "    if plot_sortline:\n",
      "        ax.plot(arange(sum(selector)) + 0.5, curr_set.sort_col[selector]+0.5, 'b-')\n",
      "    if cbar:\n",
      "        cb = ax.get_figure().colorbar(mappable=im, orientation='horizontal')\n",
      "        if scaled:\n",
      "            cb.set_ticks([0,1])\n",
      "            cb.set_label('Expression relative to max')\n",
      "        else:\n",
      "            cb.set_ticks([0,1,2,3])\n",
      "            cb.set_ticklabels([1,10,100,1000])\n",
      "            cb.set_label('FPKM')\n",
      "    vlines_pos = [argmax(curr_set[selector].sort_col < selrange[0]), argmin(curr_set[selector].sort_col > selrange[1])]\n",
      "    abs_vlines_pos = [argmax(curr_set.sort_col < selrange[0]), argmin(curr_set.sort_col > selrange[1])]\n",
      "    print abs_vlines_pos, len(curr_set)\n",
      "    ax.vlines(vlines_pos, \n",
      "           0, n_samples, v_color, lw=4)\n",
      "    ax.set_xlim(0, sum(selector))\n",
      "    ax.set_ylim(0, n_samples)\n",
      "    ax.set_yticks([0.5, n_samples - 0.5])\n",
      "    ax.set_yticklabels(['A', 'P'])\n",
      "    ax.set_xticks([])\n"
     ],
     "language": "python",
     "metadata": {},
     "outputs": []
    },
    {
     "cell_type": "code",
     "collapsed": false,
     "input": [
      "def vert_gene_heatmap(curr_set, ax = None, cbar = False, selrange = None, scaled = False, v_color = 'r'):\n",
      "    n_samples = (len(curr_set.columns) - 1)\n",
      "    if ax == None:\n",
      "        ax = axes()\n",
      "    if selrange is not None:\n",
      "        selector = (selrange[0] > curr_set.sort_col) + (curr_set.sort_col > selrange[1])\n",
      "    else:\n",
      "        selrange= [(n_samples-1)/2.0 - 0.25, (n_samples-1)/2.0+0.25]\n",
      "        selector = ones(len(curr_set.sort_col), dtype=np.bool)\n",
      "        print \"Selecting all\"\n",
      "\n",
      "    data = curr_set.as_matrix()[selector,0:n_samples]\n",
      "    if scaled:\n",
      "        m = array([np.max(data, axis=1)]*(len(curr_set.columns) - 1)).T\n",
      "        data /= m.clip(1, 1e1000)\n",
      "    else:\n",
      "        data = log10(data.clip(1,1000))\n",
      "\n",
      "    im = ax.pcolormesh(data, cmap=cmap)\n",
      "    #ax.plot(np.convolve(curr_set.sort_col[selector]+0.5, ones(10), mode='same')/10, arange(sum(selector)) + 0.5,  'b-')\n",
      "    if cbar:\n",
      "        cb = ax.get_figure().colorbar(mappable=im, orientation='vertical')\n",
      "        if scaled:\n",
      "            cb.set_ticks([0,0.5,1])\n",
      "            cb.set_label('Expression relative to max')\n",
      "        else:\n",
      "            cb.set_ticks([0,1,2,3])\n",
      "            cb.set_ticklabels([1,10,100,1000])\n",
      "            cb.set_label('FPKM')\n",
      "    hlines_pos = [argmax(curr_set[selector].sort_col < selrange[0]), argmin(curr_set[selector].sort_col > selrange[1])]\n",
      "    abs_hlines_pos = [argmax(curr_set.sort_col < selrange[0]), argmin(curr_set.sort_col > selrange[1])]\n",
      "    print abs_hlines_pos, len(curr_set)\n",
      "    ax.hlines(hlines_pos, \n",
      "           0, n_samples, v_color, lw=4)\n",
      "    ax.set_ylim(0, sum(selector))\n",
      "    ax.set_xlim(0, n_samples)\n",
      "    ax.set_xticks([0.5, n_samples - 0.5])\n",
      "    ax.set_xticklabels(['A', 'P'])\n",
      "    ax.set_yticks([])\n"
     ],
     "language": "python",
     "metadata": {},
     "outputs": []
    },
    {
     "cell_type": "code",
     "collapsed": false,
     "input": [
      "dat = cas_clean_mat.as_matrix().clip(1,1000)[:,0:-1].T\n",
      "m = array([np.max(dat,axis=0)]*6)\n",
      "print shape(m), shape(dat)"
     ],
     "language": "python",
     "metadata": {},
     "outputs": []
    },
    {
     "cell_type": "code",
     "collapsed": false,
     "input": [
      "print shape(np.convolve(cas_clean_mat.sort_col, ones(10), mode='same'))\n",
      "print shape(cas_clean_mat.sort_col)"
     ],
     "language": "python",
     "metadata": {},
     "outputs": []
    },
    {
     "cell_type": "code",
     "collapsed": false,
     "input": [
      "cmap = cm.Blues\n",
      "scaled = True\n",
      "fig = figure(figsize=(16.5, 10))\n",
      "#fig = figure(figsize=(6.83, 9.19))\n",
      "ax = fig.add_subplot(2,1,1, ylabel='Zygotic Genes')\n",
      "gene_heatmap(cas_clean_nonmat, ax, scaled=scaled, v_color='g')\n",
      "ax.invert_yaxis()\n",
      "ax.invert_xaxis()\n",
      "ax = fig.add_subplot(2,1,2, ylabel='Maternal Genes')\n",
      "gene_heatmap(cas_clean_mat, ax, cbar=True, scaled=scaled, v_color='g')\n",
      "ax.invert_yaxis()\n",
      "ax.invert_xaxis()\n",
      "savefig('figures/matzyg_heatmap_h.png', dpi=300)\n",
      "savefig('figures/matzyg_heatmap_h.eps', dpi=300)\n"
     ],
     "language": "python",
     "metadata": {},
     "outputs": []
    },
    {
     "cell_type": "code",
     "collapsed": false,
     "input": [
      "cmap = cm.Blues\n",
      "scaled = True\n",
      "#fig = figure(figsize=(30, 15))\n",
      "fig = figure(figsize=(3.27, 9.19))\n",
      "\n",
      "\n",
      "import matplotlib.gridspec as gridspec\n",
      "v_height = 9\n",
      "gs = gridspec.GridSpec(2,2, width_ratios=[1,1], height_ratios=[v_height, 9.19-v_height])\n",
      "\n",
      "ax = fig.add_subplot(gs[0], title='Zygotic Genes')\n",
      "vert_gene_heatmap(cas_clean_nonmat, ax, scaled=scaled, v_color=(0,0,0,0))\n",
      "ax = fig.add_subplot(gs[1], title='Maternal Genes')\n",
      "vert_gene_heatmap(cas_clean_mat, ax, cbar=False, scaled=scaled, v_color=(0,0,0,0))\n",
      "\n",
      "\n",
      "ax = fig.add_subplot(gs[2:], title='Percent expression relative to max')\n",
      "ax.imshow(outer(arange(0,1,0.01),ones(10)).T, cmap = cmap, aspect='auto', origin=\"lower\")\n",
      "ax.set_yticks([])\n",
      "ax.set_xticks([0,50,100])\n",
      "\n",
      "savefig('figures/matzyg_heatmap.png', dpi=300)\n",
      "savefig('figures/matzyg_heatmap.eps', dpi=300)\n",
      "savefig('figures/matzyg_heatmap.tif', dpi=300)\n",
      "\n",
      "\n",
      "cmap = cm.Blues\n",
      "scaled = True\n",
      "#fig = figure(figsize=(30, 15))\n",
      "fig = figure(figsize=(3.27, 9.19))\n",
      "ax = fig.add_subplot(1,2,1, xlabel='Zygotic Genes')\n",
      "vert_gene_heatmap(cas_clean_nonmat, ax, scaled=scaled, v_color='g', selrange=[2.5-0.25, 2.5+0.25])\n",
      "ax = fig.add_subplot(1,2,2, xlabel='Maternal Genes')\n",
      "vert_gene_heatmap(cas_clean_mat, ax, cbar=False, scaled=scaled, v_color='g', selrange=[2.5-0.25, 2.5+0.25])\n",
      "savefig('figures/matzyg_heatmap_zoom.png', dpi=300)\n",
      "savefig('figures/matzyg_heatmap_zoom.eps', dpi=300)"
     ],
     "language": "python",
     "metadata": {},
     "outputs": []
    },
    {
     "cell_type": "code",
     "collapsed": false,
     "input": [
      "cas_clean_mat[100:116]"
     ],
     "language": "python",
     "metadata": {},
     "outputs": []
    },
    {
     "cell_type": "code",
     "collapsed": false,
     "input": [
      "cmap = cm.Blues\n",
      "fig = figure(figsize=(16.5, 10))\n",
      "#fig = figure(figsize=(6.83, 9.19))\n",
      "ax = fig.add_subplot(2,1,1, ylabel='Zygotic Genes')\n",
      "gene_heatmap(cas_clean_nonmat, ax, scaled=True, v_color='g',selrange=[2,3])\n",
      "ax.invert_yaxis()\n",
      "ax.invert_xaxis()\n",
      "ax = fig.add_subplot(2,1,2, ylabel='Maternal Genes')\n",
      "gene_heatmap(cas_clean_mat, ax, cbar=True, scaled=True, v_color='g', selrange=[2,3])\n",
      "ax.invert_yaxis()\n",
      "ax.invert_xaxis()\n",
      "savefig('figures/matzyg_heatmap_zoomh.png')"
     ],
     "language": "python",
     "metadata": {},
     "outputs": []
    },
    {
     "cell_type": "code",
     "collapsed": false,
     "input": [
      "goodname = lambda x: (not str(x).startswith('CR')) and ( 'RNA' not in str(x))\n",
      "bbccnm2 = bbc_clean_nonmat.select(goodname)\n",
      "print bbccnm2[bbccnm2.sort_col > 3].to_string()\n",
      "plot(bbccnm2.sort_col, [bcd_sorted_fpkms.ix[gn]['sort_col'] for gn in bbccnm2.index], '.')\n",
      "plot([0,5], [0,4])"
     ],
     "language": "python",
     "metadata": {},
     "outputs": []
    },
    {
     "cell_type": "code",
     "collapsed": false,
     "input": [
      "scaled = True\n",
      "cmap = cm.Reds\n",
      "#fig = figure(figsize=(30, 15))\n",
      "fig = figure(figsize=(6.83, 9.19))\n",
      "ax = fig.add_subplot(1,4,1, title='Zygotic Genes')\n",
      "vert_gene_heatmap(bcd_clean_nonmat, ax, scaled=scaled, v_color='g')\n",
      "ax = fig.add_subplot(1,4,2, title='Maternal Genes')\n",
      "vert_gene_heatmap(bcd_clean_mat, ax, scaled=scaled, v_color='g')\n",
      "\n",
      "cmap=cm.Purples\n",
      "ax = fig.add_subplot(1,4,3, title='Zygotic Genes\\nsorted by CaS')\n",
      "vert_gene_heatmap(bbc_clean_nonmat, ax, scaled=scaled, v_color=(0,0,0,0.0))\n",
      "ax = fig.add_subplot(1,4,4, title='Maternal Genes\\nsorted by CaS')\n",
      "vert_gene_heatmap(bbc_clean_mat, ax, scaled=scaled, v_color=(0,0,0,0.0))\n",
      "print ax.artists\n",
      "savefig('figures/bcdmatzyg_heatmap.png')"
     ],
     "language": "python",
     "metadata": {},
     "outputs": []
    },
    {
     "cell_type": "code",
     "collapsed": false,
     "input": [
      "scaled = True\n",
      "cmap = cm.Reds\n",
      "fig = figure(figsize=(16, 10))\n",
      "\n",
      "cmap=cm.Reds\n",
      "ax = fig.add_subplot(4,1,1, ylabel='Zygotic Genes\\nsorted by CaS')\n",
      "gene_heatmap(bbc_clean_nonmat, ax, scaled=scaled, v_color=(0,0,0,0.0))\n",
      "ax.invert_xaxis()\n",
      "ax.invert_yaxis()\n",
      "ax = fig.add_subplot(4,1,3, ylabel='Maternal Genes\\nsorted by CaS')\n",
      "gene_heatmap(bbc_clean_mat, ax, scaled=scaled, v_color=(0,0,0,0.0))\n",
      "ax.invert_xaxis()\n",
      "ax.invert_yaxis()\n",
      "cmap=cm.Blues\n",
      "ax = fig.add_subplot(4,1,2, ylabel='Zygotic Genes')\n",
      "gene_heatmap(cas_clean_nonmat, ax, scaled=scaled, v_color='g')\n",
      "ax.invert_yaxis()\n",
      "ax.invert_xaxis()\n",
      "ax = fig.add_subplot(4,1,4, ylabel='Maternal Genes')\n",
      "gene_heatmap(cas_clean_mat, ax, cbar=True, scaled=scaled, v_color='g')\n",
      "ax.invert_yaxis()\n",
      "ax.invert_xaxis()\n",
      "\n",
      "savefig('figures/bcdmatzyg_heatmap_by_cas_h.png')"
     ],
     "language": "python",
     "metadata": {},
     "outputs": []
    },
    {
     "cell_type": "code",
     "collapsed": false,
     "input": [
      "bcd_clean_nonmat[100:110]"
     ],
     "language": "python",
     "metadata": {},
     "outputs": []
    },
    {
     "cell_type": "code",
     "collapsed": false,
     "input": [
      "x = bbc_clean_nonmat.ix[bbc_clean_nonmat.sort_col > 3]\n",
      "vert_gene_heatmap(bbc_clean_nonmat)"
     ],
     "language": "python",
     "metadata": {},
     "outputs": []
    },
    {
     "cell_type": "code",
     "collapsed": false,
     "input": [
      "scaled = True\n",
      "cmap = cm.Reds\n",
      "fig = figure(figsize=(30, 15))\n",
      "ax = fig.add_subplot(4,1,1, ylabel='Zygotic Genes')\n",
      "gene_heatmap(bcd_clean_nonmat, ax, scaled=scaled, v_color='g')\n",
      "ax = fig.add_subplot(4,1,2, ylabel='Maternal Genes')\n",
      "gene_heatmap(bcd_clean_mat, ax, cbar=True, scaled=scaled, v_color='g')\n",
      "\n",
      "cmap=cm.Purples\n",
      "ax = fig.add_subplot(4,1,3, ylabel='Zygotic Genes - sorted by CaS')\n",
      "gene_heatmap(bbc_clean_nonmat, ax, scaled=scaled, v_color=(0,0,0,0.0))\n",
      "ax = fig.add_subplot(4,1,4, ylabel='Maternal Genes - sorted by CaS')\n",
      "gene_heatmap(bbc_clean_mat, ax, scaled=scaled, v_color=(0,0,0,0.0))\n",
      "savefig('figures/bcdmatzyg_heatmap.png')"
     ],
     "language": "python",
     "metadata": {},
     "outputs": []
    },
    {
     "cell_type": "code",
     "collapsed": false,
     "input": [
      "cmap = cm.Reds\n",
      "fig = figure(figsize=(30, 15))\n",
      "ax = fig.add_subplot(2,1,1, ylabel='Zygotic Genes')\n",
      "gene_heatmap(bcd_clean_nonmat, ax, scaled=True, v_color='g', selrange=[1.5,2.5])\n",
      "ax = fig.add_subplot(2,1,2, ylabel='Maternal Genes')\n",
      "gene_heatmap(bcd_clean_mat, ax, cbar=True, scaled=True, v_color='g', selrange=[1.5,2.5])\n",
      "savefig('figures/bcdmatzyg_heatmap.png')"
     ],
     "language": "python",
     "metadata": {},
     "outputs": []
    },
    {
     "cell_type": "code",
     "collapsed": false,
     "input": [
      "figure(figsize=(12,5))\n",
      "cmap = cm.Purples\n",
      "gene_heatmap(bcd_by_cas_clean, cbar=True, scaled=True)"
     ],
     "language": "python",
     "metadata": {},
     "outputs": []
    },
    {
     "cell_type": "code",
     "collapsed": false,
     "input": [
      "print (1400 - 227)/1689.\n",
      "\n",
      "print (3581 - 30) / 3690."
     ],
     "language": "python",
     "metadata": {},
     "outputs": []
    },
    {
     "cell_type": "code",
     "collapsed": false,
     "input": [
      "cmap = cm.Greens\n",
      "fig = figure(figsize=(6.83,5))\n",
      "fig.add_subplot(2,1,1)\n",
      "curr_set = clean\n",
      "selector = (2 > curr_set.sort_col) + (curr_set.sort_col > 3)\n",
      "#selector = ones(len(clean.sort_col),dtype=np.bool)\n",
      "pcolor(log10(curr_set.as_matrix().clip(1,1000)[selector,0:6].T), cmap=cmap)\n",
      "plot(arange(sum(selector)) + 0.5, curr_set.sort_col[selector]+0.5, 'b-')\n",
      "cb = colorbar(orientation='horizontal')\n",
      "cb.set_ticks([0,1,2,3])\n",
      "cb.set_ticklabels([1,10,100,1000])\n",
      "cb.set_label('FPKM')\n",
      "vlines([argmax(curr_set[selector].sort_col > 2), argmin(curr_set[selector].sort_col < 3)], \n",
      "       0, 6, 'r')\n",
      "ax = gca()\n",
      "ax.set_xlim(0, sum(selector))\n",
      "ax.set_ylim(0, 6)"
     ],
     "language": "python",
     "metadata": {},
     "outputs": []
    },
    {
     "cell_type": "code",
     "collapsed": false,
     "input": [
      "print '\\n'.join(clean[selector].index[:40])\n",
      "\n",
      "print sorted_fpkms.dropna(axis=0, how='any').ix['bcd']"
     ],
     "language": "python",
     "metadata": {},
     "outputs": []
    },
    {
     "cell_type": "code",
     "collapsed": false,
     "input": [
      "plot(clean.sort_col)"
     ],
     "language": "python",
     "metadata": {},
     "outputs": []
    },
    {
     "cell_type": "code",
     "collapsed": false,
     "input": [],
     "language": "python",
     "metadata": {},
     "outputs": []
    }
   ],
   "metadata": {}
  }
 ]
}